{
 "cells": [
  {
   "cell_type": "markdown",
   "metadata": {},
   "source": [
    "# Online Store: prioritize hypotheses and launch an A/B test\n",
    "## Goal:\n",
    "The goal of this project is to evaluate and prioritize hypotheses aimed at increasing online store revenue, as well as analyze the results of the A/B test.\n",
    "## The following tasks will be solved within the framework of the project:\n",
    "\n",
    " - Prioritize hypotheses using the ICE and RICE methods and compare the results.\n",
    " - Analyze the results of the A/B test, including revenue metrics, average order size and conversion rates, and identify statistically significant differences between the test groups.\n",
    " - Make a decision on the further course of testing and offer recommendations based on the analysis."
   ]
  },
  {
   "cell_type": "code",
   "execution_count": 1,
   "metadata": {},
   "outputs": [],
   "source": [
    "import pandas as pd\n",
    "import datetime as dt\n",
    "import numpy as np\n",
    "import matplotlib.pyplot as plt\n",
    "import scipy.stats as stats"
   ]
  },
  {
   "cell_type": "code",
   "execution_count": 2,
   "metadata": {},
   "outputs": [
    {
     "data": {
      "text/html": [
       "<div>\n",
       "<style scoped>\n",
       "    .dataframe tbody tr th:only-of-type {\n",
       "        vertical-align: middle;\n",
       "    }\n",
       "\n",
       "    .dataframe tbody tr th {\n",
       "        vertical-align: top;\n",
       "    }\n",
       "\n",
       "    .dataframe thead th {\n",
       "        text-align: right;\n",
       "    }\n",
       "</style>\n",
       "<table border=\"1\" class=\"dataframe\">\n",
       "  <thead>\n",
       "    <tr style=\"text-align: right;\">\n",
       "      <th></th>\n",
       "      <th>Hypothesis</th>\n",
       "      <th>Reach</th>\n",
       "      <th>Impact</th>\n",
       "      <th>Confidence</th>\n",
       "      <th>Effort</th>\n",
       "    </tr>\n",
       "  </thead>\n",
       "  <tbody>\n",
       "    <tr>\n",
       "      <th>0</th>\n",
       "      <td>Add two new channels for attracting traffic. This will bring 30% more users</td>\n",
       "      <td>3</td>\n",
       "      <td>10</td>\n",
       "      <td>8</td>\n",
       "      <td>6</td>\n",
       "    </tr>\n",
       "    <tr>\n",
       "      <th>1</th>\n",
       "      <td>Launch your own delivery service. This will shorten delivery time</td>\n",
       "      <td>2</td>\n",
       "      <td>5</td>\n",
       "      <td>4</td>\n",
       "      <td>10</td>\n",
       "    </tr>\n",
       "    <tr>\n",
       "      <th>2</th>\n",
       "      <td>Add product recommendation blocks to the store's site. This will increase conversion and average...</td>\n",
       "      <td>8</td>\n",
       "      <td>3</td>\n",
       "      <td>7</td>\n",
       "      <td>3</td>\n",
       "    </tr>\n",
       "    <tr>\n",
       "      <th>3</th>\n",
       "      <td>Change the category structure. This will increase conversion since users will find the products ...</td>\n",
       "      <td>8</td>\n",
       "      <td>3</td>\n",
       "      <td>3</td>\n",
       "      <td>8</td>\n",
       "    </tr>\n",
       "    <tr>\n",
       "      <th>4</th>\n",
       "      <td>Change the background color on the main page. This will increase user engagement</td>\n",
       "      <td>3</td>\n",
       "      <td>1</td>\n",
       "      <td>1</td>\n",
       "      <td>1</td>\n",
       "    </tr>\n",
       "    <tr>\n",
       "      <th>5</th>\n",
       "      <td>Add a customer review page. This will increase the number of orders</td>\n",
       "      <td>3</td>\n",
       "      <td>2</td>\n",
       "      <td>2</td>\n",
       "      <td>3</td>\n",
       "    </tr>\n",
       "    <tr>\n",
       "      <th>6</th>\n",
       "      <td>Show banners with current offers and sales on the main page. This will boost conversion</td>\n",
       "      <td>5</td>\n",
       "      <td>3</td>\n",
       "      <td>8</td>\n",
       "      <td>3</td>\n",
       "    </tr>\n",
       "    <tr>\n",
       "      <th>7</th>\n",
       "      <td>Add a subscription form to all the main pages. This will help you compile a mailing list</td>\n",
       "      <td>10</td>\n",
       "      <td>7</td>\n",
       "      <td>8</td>\n",
       "      <td>5</td>\n",
       "    </tr>\n",
       "    <tr>\n",
       "      <th>8</th>\n",
       "      <td>Launch a promotion that gives users discounts on their birthdays</td>\n",
       "      <td>1</td>\n",
       "      <td>9</td>\n",
       "      <td>9</td>\n",
       "      <td>5</td>\n",
       "    </tr>\n",
       "  </tbody>\n",
       "</table>\n",
       "</div>"
      ],
      "text/plain": [
       "                                                                                            Hypothesis  \\\n",
       "0                          Add two new channels for attracting traffic. This will bring 30% more users   \n",
       "1                                    Launch your own delivery service. This will shorten delivery time   \n",
       "2  Add product recommendation blocks to the store's site. This will increase conversion and average...   \n",
       "3  Change the category structure. This will increase conversion since users will find the products ...   \n",
       "4                     Change the background color on the main page. This will increase user engagement   \n",
       "5                                  Add a customer review page. This will increase the number of orders   \n",
       "6              Show banners with current offers and sales on the main page. This will boost conversion   \n",
       "7             Add a subscription form to all the main pages. This will help you compile a mailing list   \n",
       "8                                     Launch a promotion that gives users discounts on their birthdays   \n",
       "\n",
       "   Reach  Impact  Confidence  Effort  \n",
       "0      3      10           8       6  \n",
       "1      2       5           4      10  \n",
       "2      8       3           7       3  \n",
       "3      8       3           3       8  \n",
       "4      3       1           1       1  \n",
       "5      3       2           2       3  \n",
       "6      5       3           8       3  \n",
       "7     10       7           8       5  \n",
       "8      1       9           9       5  "
      ]
     },
     "execution_count": 2,
     "metadata": {},
     "output_type": "execute_result"
    }
   ],
   "source": [
    "hypotheses = pd.read_csv ('/datasets/hypotheses_us.csv', sep=';')\n",
    "pd.options.display.max_colwidth = 100\n",
    "hypotheses"
   ]
  },
  {
   "cell_type": "code",
   "execution_count": 3,
   "metadata": {},
   "outputs": [
    {
     "data": {
      "text/html": [
       "<div>\n",
       "<style scoped>\n",
       "    .dataframe tbody tr th:only-of-type {\n",
       "        vertical-align: middle;\n",
       "    }\n",
       "\n",
       "    .dataframe tbody tr th {\n",
       "        vertical-align: top;\n",
       "    }\n",
       "\n",
       "    .dataframe thead th {\n",
       "        text-align: right;\n",
       "    }\n",
       "</style>\n",
       "<table border=\"1\" class=\"dataframe\">\n",
       "  <thead>\n",
       "    <tr style=\"text-align: right;\">\n",
       "      <th></th>\n",
       "      <th>Hypothesis</th>\n",
       "      <th>Reach</th>\n",
       "      <th>Impact</th>\n",
       "      <th>Confidence</th>\n",
       "      <th>Effort</th>\n",
       "      <th>ICE</th>\n",
       "    </tr>\n",
       "  </thead>\n",
       "  <tbody>\n",
       "    <tr>\n",
       "      <th>8</th>\n",
       "      <td>Launch a promotion that gives users discounts on their birthdays</td>\n",
       "      <td>1</td>\n",
       "      <td>9</td>\n",
       "      <td>9</td>\n",
       "      <td>5</td>\n",
       "      <td>16.20</td>\n",
       "    </tr>\n",
       "    <tr>\n",
       "      <th>0</th>\n",
       "      <td>Add two new channels for attracting traffic. This will bring 30% more users</td>\n",
       "      <td>3</td>\n",
       "      <td>10</td>\n",
       "      <td>8</td>\n",
       "      <td>6</td>\n",
       "      <td>13.33</td>\n",
       "    </tr>\n",
       "    <tr>\n",
       "      <th>7</th>\n",
       "      <td>Add a subscription form to all the main pages. This will help you compile a mailing list</td>\n",
       "      <td>10</td>\n",
       "      <td>7</td>\n",
       "      <td>8</td>\n",
       "      <td>5</td>\n",
       "      <td>11.20</td>\n",
       "    </tr>\n",
       "    <tr>\n",
       "      <th>6</th>\n",
       "      <td>Show banners with current offers and sales on the main page. This will boost conversion</td>\n",
       "      <td>5</td>\n",
       "      <td>3</td>\n",
       "      <td>8</td>\n",
       "      <td>3</td>\n",
       "      <td>8.00</td>\n",
       "    </tr>\n",
       "    <tr>\n",
       "      <th>2</th>\n",
       "      <td>Add product recommendation blocks to the store's site. This will increase conversion and average...</td>\n",
       "      <td>8</td>\n",
       "      <td>3</td>\n",
       "      <td>7</td>\n",
       "      <td>3</td>\n",
       "      <td>7.00</td>\n",
       "    </tr>\n",
       "    <tr>\n",
       "      <th>1</th>\n",
       "      <td>Launch your own delivery service. This will shorten delivery time</td>\n",
       "      <td>2</td>\n",
       "      <td>5</td>\n",
       "      <td>4</td>\n",
       "      <td>10</td>\n",
       "      <td>2.00</td>\n",
       "    </tr>\n",
       "    <tr>\n",
       "      <th>5</th>\n",
       "      <td>Add a customer review page. This will increase the number of orders</td>\n",
       "      <td>3</td>\n",
       "      <td>2</td>\n",
       "      <td>2</td>\n",
       "      <td>3</td>\n",
       "      <td>1.33</td>\n",
       "    </tr>\n",
       "    <tr>\n",
       "      <th>3</th>\n",
       "      <td>Change the category structure. This will increase conversion since users will find the products ...</td>\n",
       "      <td>8</td>\n",
       "      <td>3</td>\n",
       "      <td>3</td>\n",
       "      <td>8</td>\n",
       "      <td>1.12</td>\n",
       "    </tr>\n",
       "    <tr>\n",
       "      <th>4</th>\n",
       "      <td>Change the background color on the main page. This will increase user engagement</td>\n",
       "      <td>3</td>\n",
       "      <td>1</td>\n",
       "      <td>1</td>\n",
       "      <td>1</td>\n",
       "      <td>1.00</td>\n",
       "    </tr>\n",
       "  </tbody>\n",
       "</table>\n",
       "</div>"
      ],
      "text/plain": [
       "                                                                                            Hypothesis  \\\n",
       "8                                     Launch a promotion that gives users discounts on their birthdays   \n",
       "0                          Add two new channels for attracting traffic. This will bring 30% more users   \n",
       "7             Add a subscription form to all the main pages. This will help you compile a mailing list   \n",
       "6              Show banners with current offers and sales on the main page. This will boost conversion   \n",
       "2  Add product recommendation blocks to the store's site. This will increase conversion and average...   \n",
       "1                                    Launch your own delivery service. This will shorten delivery time   \n",
       "5                                  Add a customer review page. This will increase the number of orders   \n",
       "3  Change the category structure. This will increase conversion since users will find the products ...   \n",
       "4                     Change the background color on the main page. This will increase user engagement   \n",
       "\n",
       "   Reach  Impact  Confidence  Effort    ICE  \n",
       "8      1       9           9       5  16.20  \n",
       "0      3      10           8       6  13.33  \n",
       "7     10       7           8       5  11.20  \n",
       "6      5       3           8       3   8.00  \n",
       "2      8       3           7       3   7.00  \n",
       "1      2       5           4      10   2.00  \n",
       "5      3       2           2       3   1.33  \n",
       "3      8       3           3       8   1.12  \n",
       "4      3       1           1       1   1.00  "
      ]
     },
     "execution_count": 3,
     "metadata": {},
     "output_type": "execute_result"
    }
   ],
   "source": [
    "hypotheses['ICE'] = hypotheses['Impact'] * hypotheses['Confidence'] / hypotheses['Effort']\n",
    "hypotheses['ICE'] = hypotheses['ICE'].round(2)\n",
    "hypotheses = hypotheses.sort_values(by='ICE', ascending=False)\n",
    "hypotheses"
   ]
  },
  {
   "cell_type": "code",
   "execution_count": 4,
   "metadata": {},
   "outputs": [
    {
     "data": {
      "text/html": [
       "<div>\n",
       "<style scoped>\n",
       "    .dataframe tbody tr th:only-of-type {\n",
       "        vertical-align: middle;\n",
       "    }\n",
       "\n",
       "    .dataframe tbody tr th {\n",
       "        vertical-align: top;\n",
       "    }\n",
       "\n",
       "    .dataframe thead th {\n",
       "        text-align: right;\n",
       "    }\n",
       "</style>\n",
       "<table border=\"1\" class=\"dataframe\">\n",
       "  <thead>\n",
       "    <tr style=\"text-align: right;\">\n",
       "      <th></th>\n",
       "      <th>Hypothesis</th>\n",
       "      <th>Reach</th>\n",
       "      <th>Impact</th>\n",
       "      <th>Confidence</th>\n",
       "      <th>Effort</th>\n",
       "      <th>ICE</th>\n",
       "      <th>RICE</th>\n",
       "    </tr>\n",
       "  </thead>\n",
       "  <tbody>\n",
       "    <tr>\n",
       "      <th>7</th>\n",
       "      <td>Add a subscription form to all the main pages. This will help you compile a mailing list</td>\n",
       "      <td>10</td>\n",
       "      <td>7</td>\n",
       "      <td>8</td>\n",
       "      <td>5</td>\n",
       "      <td>11.20</td>\n",
       "      <td>112.0</td>\n",
       "    </tr>\n",
       "    <tr>\n",
       "      <th>2</th>\n",
       "      <td>Add product recommendation blocks to the store's site. This will increase conversion and average...</td>\n",
       "      <td>8</td>\n",
       "      <td>3</td>\n",
       "      <td>7</td>\n",
       "      <td>3</td>\n",
       "      <td>7.00</td>\n",
       "      <td>56.0</td>\n",
       "    </tr>\n",
       "    <tr>\n",
       "      <th>0</th>\n",
       "      <td>Add two new channels for attracting traffic. This will bring 30% more users</td>\n",
       "      <td>3</td>\n",
       "      <td>10</td>\n",
       "      <td>8</td>\n",
       "      <td>6</td>\n",
       "      <td>13.33</td>\n",
       "      <td>40.0</td>\n",
       "    </tr>\n",
       "    <tr>\n",
       "      <th>6</th>\n",
       "      <td>Show banners with current offers and sales on the main page. This will boost conversion</td>\n",
       "      <td>5</td>\n",
       "      <td>3</td>\n",
       "      <td>8</td>\n",
       "      <td>3</td>\n",
       "      <td>8.00</td>\n",
       "      <td>40.0</td>\n",
       "    </tr>\n",
       "    <tr>\n",
       "      <th>8</th>\n",
       "      <td>Launch a promotion that gives users discounts on their birthdays</td>\n",
       "      <td>1</td>\n",
       "      <td>9</td>\n",
       "      <td>9</td>\n",
       "      <td>5</td>\n",
       "      <td>16.20</td>\n",
       "      <td>16.2</td>\n",
       "    </tr>\n",
       "    <tr>\n",
       "      <th>3</th>\n",
       "      <td>Change the category structure. This will increase conversion since users will find the products ...</td>\n",
       "      <td>8</td>\n",
       "      <td>3</td>\n",
       "      <td>3</td>\n",
       "      <td>8</td>\n",
       "      <td>1.12</td>\n",
       "      <td>9.0</td>\n",
       "    </tr>\n",
       "    <tr>\n",
       "      <th>1</th>\n",
       "      <td>Launch your own delivery service. This will shorten delivery time</td>\n",
       "      <td>2</td>\n",
       "      <td>5</td>\n",
       "      <td>4</td>\n",
       "      <td>10</td>\n",
       "      <td>2.00</td>\n",
       "      <td>4.0</td>\n",
       "    </tr>\n",
       "    <tr>\n",
       "      <th>5</th>\n",
       "      <td>Add a customer review page. This will increase the number of orders</td>\n",
       "      <td>3</td>\n",
       "      <td>2</td>\n",
       "      <td>2</td>\n",
       "      <td>3</td>\n",
       "      <td>1.33</td>\n",
       "      <td>4.0</td>\n",
       "    </tr>\n",
       "    <tr>\n",
       "      <th>4</th>\n",
       "      <td>Change the background color on the main page. This will increase user engagement</td>\n",
       "      <td>3</td>\n",
       "      <td>1</td>\n",
       "      <td>1</td>\n",
       "      <td>1</td>\n",
       "      <td>1.00</td>\n",
       "      <td>3.0</td>\n",
       "    </tr>\n",
       "  </tbody>\n",
       "</table>\n",
       "</div>"
      ],
      "text/plain": [
       "                                                                                            Hypothesis  \\\n",
       "7             Add a subscription form to all the main pages. This will help you compile a mailing list   \n",
       "2  Add product recommendation blocks to the store's site. This will increase conversion and average...   \n",
       "0                          Add two new channels for attracting traffic. This will bring 30% more users   \n",
       "6              Show banners with current offers and sales on the main page. This will boost conversion   \n",
       "8                                     Launch a promotion that gives users discounts on their birthdays   \n",
       "3  Change the category structure. This will increase conversion since users will find the products ...   \n",
       "1                                    Launch your own delivery service. This will shorten delivery time   \n",
       "5                                  Add a customer review page. This will increase the number of orders   \n",
       "4                     Change the background color on the main page. This will increase user engagement   \n",
       "\n",
       "   Reach  Impact  Confidence  Effort    ICE   RICE  \n",
       "7     10       7           8       5  11.20  112.0  \n",
       "2      8       3           7       3   7.00   56.0  \n",
       "0      3      10           8       6  13.33   40.0  \n",
       "6      5       3           8       3   8.00   40.0  \n",
       "8      1       9           9       5  16.20   16.2  \n",
       "3      8       3           3       8   1.12    9.0  \n",
       "1      2       5           4      10   2.00    4.0  \n",
       "5      3       2           2       3   1.33    4.0  \n",
       "4      3       1           1       1   1.00    3.0  "
      ]
     },
     "execution_count": 4,
     "metadata": {},
     "output_type": "execute_result"
    }
   ],
   "source": [
    "hypotheses['RICE'] = hypotheses['Reach'] * hypotheses['Impact'] * hypotheses['Confidence'] / hypotheses['Effort']\n",
    "hypotheses = hypotheses.sort_values(by='RICE', ascending=False)\n",
    "hypotheses"
   ]
  },
  {
   "cell_type": "markdown",
   "metadata": {},
   "source": [
    "* Conclusion:\n",
    "\n",
    "When comparing the priority of hypotheses in ICE and RICE, you will notice that some hypotheses are prioritized higher and others are downgraded when using RICE. The main difference between ICE and RICE is the addition of the Reach parameter to the RICE formula.\n",
    "\n",
    "Here is how the changes affect the priority of hypotheses:\n",
    "\n",
    "Hypothesis 7 (Add a subscription form to all the main pages): This hypothesis is promoted to the first position in RICE due to its high Reach value (10). It has high reach, influence, and confidence with moderate effort, which makes it a higher priority in RICE.\n",
    "\n",
    "Hypothesis 2 (Add product recommendation blocks): This hypothesis was ranked lower in ICE, but it is promoted in RICE due to its relatively high reach (8). Reach increases its RICE value, pushing it up to the second position.\n",
    "\n",
    "Hypothesis 0 (Add two new channels for attracting traffic): Although this hypothesis had a high ICE score due to Impact and Confidence, its RICE rank is slightly lower because it has a lower Reach (3) compared to the others.\n",
    "\n",
    "Hypothesis 8 (Launch a promotion that gives users discounts): Despite having high Impact and Confidence scores, this hypothesis is downgraded because it has a low Reach (1). This shows that while the hypothesis promises a high Impact, it will reach a smaller audience.\n",
    "\n",
    "Explanation of the changes\n",
    "The RICE formula (Reach × Impact × Confidence / Effort) takes into account the potential reach of each hypothesis, i.e. how many users will be affected. When the Reach value is low, RICE downgrades the hypothesis even if it has high Impact and Confidence, because the effect will be limited to a smaller number of users."
   ]
  },
  {
   "cell_type": "code",
   "execution_count": 5,
   "metadata": {},
   "outputs": [
    {
     "data": {
      "text/html": [
       "<div>\n",
       "<style scoped>\n",
       "    .dataframe tbody tr th:only-of-type {\n",
       "        vertical-align: middle;\n",
       "    }\n",
       "\n",
       "    .dataframe tbody tr th {\n",
       "        vertical-align: top;\n",
       "    }\n",
       "\n",
       "    .dataframe thead th {\n",
       "        text-align: right;\n",
       "    }\n",
       "</style>\n",
       "<table border=\"1\" class=\"dataframe\">\n",
       "  <thead>\n",
       "    <tr style=\"text-align: right;\">\n",
       "      <th></th>\n",
       "      <th>transactionId</th>\n",
       "      <th>visitorId</th>\n",
       "      <th>date</th>\n",
       "      <th>revenue</th>\n",
       "      <th>group</th>\n",
       "    </tr>\n",
       "  </thead>\n",
       "  <tbody>\n",
       "    <tr>\n",
       "      <th>0</th>\n",
       "      <td>3667963787</td>\n",
       "      <td>3312258926</td>\n",
       "      <td>2019-08-15</td>\n",
       "      <td>30.4</td>\n",
       "      <td>B</td>\n",
       "    </tr>\n",
       "    <tr>\n",
       "      <th>1</th>\n",
       "      <td>2804400009</td>\n",
       "      <td>3642806036</td>\n",
       "      <td>2019-08-15</td>\n",
       "      <td>15.2</td>\n",
       "      <td>B</td>\n",
       "    </tr>\n",
       "    <tr>\n",
       "      <th>2</th>\n",
       "      <td>2961555356</td>\n",
       "      <td>4069496402</td>\n",
       "      <td>2019-08-15</td>\n",
       "      <td>10.2</td>\n",
       "      <td>A</td>\n",
       "    </tr>\n",
       "    <tr>\n",
       "      <th>3</th>\n",
       "      <td>3797467345</td>\n",
       "      <td>1196621759</td>\n",
       "      <td>2019-08-15</td>\n",
       "      <td>155.1</td>\n",
       "      <td>B</td>\n",
       "    </tr>\n",
       "    <tr>\n",
       "      <th>4</th>\n",
       "      <td>2282983706</td>\n",
       "      <td>2322279887</td>\n",
       "      <td>2019-08-15</td>\n",
       "      <td>40.5</td>\n",
       "      <td>B</td>\n",
       "    </tr>\n",
       "    <tr>\n",
       "      <th>...</th>\n",
       "      <td>...</td>\n",
       "      <td>...</td>\n",
       "      <td>...</td>\n",
       "      <td>...</td>\n",
       "      <td>...</td>\n",
       "    </tr>\n",
       "    <tr>\n",
       "      <th>1192</th>\n",
       "      <td>2662137336</td>\n",
       "      <td>3733762160</td>\n",
       "      <td>2019-08-14</td>\n",
       "      <td>100.8</td>\n",
       "      <td>B</td>\n",
       "    </tr>\n",
       "    <tr>\n",
       "      <th>1193</th>\n",
       "      <td>2203539145</td>\n",
       "      <td>370388673</td>\n",
       "      <td>2019-08-14</td>\n",
       "      <td>50.1</td>\n",
       "      <td>A</td>\n",
       "    </tr>\n",
       "    <tr>\n",
       "      <th>1194</th>\n",
       "      <td>1807773912</td>\n",
       "      <td>573423106</td>\n",
       "      <td>2019-08-14</td>\n",
       "      <td>165.3</td>\n",
       "      <td>A</td>\n",
       "    </tr>\n",
       "    <tr>\n",
       "      <th>1195</th>\n",
       "      <td>1947021204</td>\n",
       "      <td>1614305549</td>\n",
       "      <td>2019-08-14</td>\n",
       "      <td>5.5</td>\n",
       "      <td>A</td>\n",
       "    </tr>\n",
       "    <tr>\n",
       "      <th>1196</th>\n",
       "      <td>3936777065</td>\n",
       "      <td>2108080724</td>\n",
       "      <td>2019-08-15</td>\n",
       "      <td>3120.1</td>\n",
       "      <td>B</td>\n",
       "    </tr>\n",
       "  </tbody>\n",
       "</table>\n",
       "<p>1197 rows × 5 columns</p>\n",
       "</div>"
      ],
      "text/plain": [
       "      transactionId   visitorId       date  revenue group\n",
       "0        3667963787  3312258926 2019-08-15     30.4     B\n",
       "1        2804400009  3642806036 2019-08-15     15.2     B\n",
       "2        2961555356  4069496402 2019-08-15     10.2     A\n",
       "3        3797467345  1196621759 2019-08-15    155.1     B\n",
       "4        2282983706  2322279887 2019-08-15     40.5     B\n",
       "...             ...         ...        ...      ...   ...\n",
       "1192     2662137336  3733762160 2019-08-14    100.8     B\n",
       "1193     2203539145   370388673 2019-08-14     50.1     A\n",
       "1194     1807773912   573423106 2019-08-14    165.3     A\n",
       "1195     1947021204  1614305549 2019-08-14      5.5     A\n",
       "1196     3936777065  2108080724 2019-08-15   3120.1     B\n",
       "\n",
       "[1197 rows x 5 columns]"
      ]
     },
     "execution_count": 5,
     "metadata": {},
     "output_type": "execute_result"
    }
   ],
   "source": [
    "orders = pd.read_csv('/datasets/orders_us.csv')\n",
    "orders['date']=orders['date'].map(lambda x: dt.datetime.strptime(x, '%Y-%m-%d')) \n",
    "orders"
   ]
  },
  {
   "cell_type": "code",
   "execution_count": 6,
   "metadata": {},
   "outputs": [
    {
     "data": {
      "text/html": [
       "<div>\n",
       "<style scoped>\n",
       "    .dataframe tbody tr th:only-of-type {\n",
       "        vertical-align: middle;\n",
       "    }\n",
       "\n",
       "    .dataframe tbody tr th {\n",
       "        vertical-align: top;\n",
       "    }\n",
       "\n",
       "    .dataframe thead th {\n",
       "        text-align: right;\n",
       "    }\n",
       "</style>\n",
       "<table border=\"1\" class=\"dataframe\">\n",
       "  <thead>\n",
       "    <tr style=\"text-align: right;\">\n",
       "      <th></th>\n",
       "      <th>date</th>\n",
       "      <th>group</th>\n",
       "      <th>visits</th>\n",
       "    </tr>\n",
       "  </thead>\n",
       "  <tbody>\n",
       "    <tr>\n",
       "      <th>0</th>\n",
       "      <td>2019-08-01</td>\n",
       "      <td>A</td>\n",
       "      <td>719</td>\n",
       "    </tr>\n",
       "    <tr>\n",
       "      <th>1</th>\n",
       "      <td>2019-08-02</td>\n",
       "      <td>A</td>\n",
       "      <td>619</td>\n",
       "    </tr>\n",
       "    <tr>\n",
       "      <th>2</th>\n",
       "      <td>2019-08-03</td>\n",
       "      <td>A</td>\n",
       "      <td>507</td>\n",
       "    </tr>\n",
       "    <tr>\n",
       "      <th>3</th>\n",
       "      <td>2019-08-04</td>\n",
       "      <td>A</td>\n",
       "      <td>717</td>\n",
       "    </tr>\n",
       "    <tr>\n",
       "      <th>4</th>\n",
       "      <td>2019-08-05</td>\n",
       "      <td>A</td>\n",
       "      <td>756</td>\n",
       "    </tr>\n",
       "    <tr>\n",
       "      <th>...</th>\n",
       "      <td>...</td>\n",
       "      <td>...</td>\n",
       "      <td>...</td>\n",
       "    </tr>\n",
       "    <tr>\n",
       "      <th>57</th>\n",
       "      <td>2019-08-27</td>\n",
       "      <td>B</td>\n",
       "      <td>720</td>\n",
       "    </tr>\n",
       "    <tr>\n",
       "      <th>58</th>\n",
       "      <td>2019-08-28</td>\n",
       "      <td>B</td>\n",
       "      <td>654</td>\n",
       "    </tr>\n",
       "    <tr>\n",
       "      <th>59</th>\n",
       "      <td>2019-08-29</td>\n",
       "      <td>B</td>\n",
       "      <td>531</td>\n",
       "    </tr>\n",
       "    <tr>\n",
       "      <th>60</th>\n",
       "      <td>2019-08-30</td>\n",
       "      <td>B</td>\n",
       "      <td>490</td>\n",
       "    </tr>\n",
       "    <tr>\n",
       "      <th>61</th>\n",
       "      <td>2019-08-31</td>\n",
       "      <td>B</td>\n",
       "      <td>718</td>\n",
       "    </tr>\n",
       "  </tbody>\n",
       "</table>\n",
       "<p>62 rows × 3 columns</p>\n",
       "</div>"
      ],
      "text/plain": [
       "         date group  visits\n",
       "0  2019-08-01     A     719\n",
       "1  2019-08-02     A     619\n",
       "2  2019-08-03     A     507\n",
       "3  2019-08-04     A     717\n",
       "4  2019-08-05     A     756\n",
       "..        ...   ...     ...\n",
       "57 2019-08-27     B     720\n",
       "58 2019-08-28     B     654\n",
       "59 2019-08-29     B     531\n",
       "60 2019-08-30     B     490\n",
       "61 2019-08-31     B     718\n",
       "\n",
       "[62 rows x 3 columns]"
      ]
     },
     "execution_count": 6,
     "metadata": {},
     "output_type": "execute_result"
    }
   ],
   "source": [
    "visitors = pd.read_csv('/datasets/visits_us.csv')\n",
    "visitors['date']=visitors['date'].map(lambda x: dt.datetime.strptime(x, '%Y-%m-%d'))\n",
    "visitors"
   ]
  },
  {
   "cell_type": "markdown",
   "metadata": {},
   "source": [
    "## Check for duplicates and missing values"
   ]
  },
  {
   "cell_type": "code",
   "execution_count": 7,
   "metadata": {},
   "outputs": [
    {
     "data": {
      "text/plain": [
       "0"
      ]
     },
     "execution_count": 7,
     "metadata": {},
     "output_type": "execute_result"
    }
   ],
   "source": [
    "hypotheses.duplicated().sum()"
   ]
  },
  {
   "cell_type": "code",
   "execution_count": 8,
   "metadata": {},
   "outputs": [
    {
     "data": {
      "text/plain": [
       "Hypothesis    0\n",
       "Reach         0\n",
       "Impact        0\n",
       "Confidence    0\n",
       "Effort        0\n",
       "ICE           0\n",
       "RICE          0\n",
       "dtype: int64"
      ]
     },
     "execution_count": 8,
     "metadata": {},
     "output_type": "execute_result"
    }
   ],
   "source": [
    "hypotheses.isnull().sum()"
   ]
  },
  {
   "cell_type": "code",
   "execution_count": 9,
   "metadata": {},
   "outputs": [
    {
     "data": {
      "text/plain": [
       "0"
      ]
     },
     "execution_count": 9,
     "metadata": {},
     "output_type": "execute_result"
    }
   ],
   "source": [
    "orders.duplicated().sum()"
   ]
  },
  {
   "cell_type": "code",
   "execution_count": 10,
   "metadata": {},
   "outputs": [
    {
     "data": {
      "text/plain": [
       "transactionId    0\n",
       "visitorId        0\n",
       "date             0\n",
       "revenue          0\n",
       "group            0\n",
       "dtype: int64"
      ]
     },
     "execution_count": 10,
     "metadata": {},
     "output_type": "execute_result"
    }
   ],
   "source": [
    "orders.isnull().sum()"
   ]
  },
  {
   "cell_type": "code",
   "execution_count": 11,
   "metadata": {},
   "outputs": [
    {
     "data": {
      "text/plain": [
       "0"
      ]
     },
     "execution_count": 11,
     "metadata": {},
     "output_type": "execute_result"
    }
   ],
   "source": [
    "visitors.duplicated().sum()"
   ]
  },
  {
   "cell_type": "code",
   "execution_count": 12,
   "metadata": {},
   "outputs": [
    {
     "data": {
      "text/plain": [
       "date      0\n",
       "group     0\n",
       "visits    0\n",
       "dtype: int64"
      ]
     },
     "execution_count": 12,
     "metadata": {},
     "output_type": "execute_result"
    }
   ],
   "source": [
    "visitors.isnull().sum()"
   ]
  },
  {
   "cell_type": "markdown",
   "metadata": {},
   "source": [
    "Checking the data for obvious duplicates and missing values ​​did not reveal any errors. All data was filled in correctly, and no obvious duplicates were found in the table rows."
   ]
  },
  {
   "cell_type": "markdown",
   "metadata": {},
   "source": [
    "## Checking user intersections in A/B test groups "
   ]
  },
  {
   "cell_type": "code",
   "execution_count": 13,
   "metadata": {},
   "outputs": [
    {
     "name": "stdout",
     "output_type": "stream",
     "text": [
      "Number of users in both groups: 58\n"
     ]
    }
   ],
   "source": [
    "# Creating lists of users by groups\n",
    "group_a_users = set(orders[orders['group'] == 'A']['visitorId'])\n",
    "group_b_users = set(orders[orders['group'] == 'B']['visitorId'])\n",
    "\n",
    "# Finding intersections\n",
    "intersecting_users = group_a_users.intersection(group_b_users)\n",
    "\n",
    "print(f\"Number of users in both groups: {len(intersecting_users)}\")"
   ]
  },
  {
   "cell_type": "code",
   "execution_count": 14,
   "metadata": {},
   "outputs": [],
   "source": [
    "# Excluding users in both groups\n",
    "orders = orders[~orders['visitorId'].isin(intersecting_users)]"
   ]
  },
  {
   "cell_type": "markdown",
   "metadata": {},
   "source": [
    "In the orders table, 58 users were found to be in both A/B test groups.\n",
    "These users were excluded from the analysis before calculating cumulative metrics."
   ]
  },
  {
   "cell_type": "markdown",
   "metadata": {},
   "source": [
    "## Stability of Cumulative Metrics"
   ]
  },
  {
   "cell_type": "code",
   "execution_count": 15,
   "metadata": {},
   "outputs": [
    {
     "data": {
      "text/html": [
       "<div>\n",
       "<style scoped>\n",
       "    .dataframe tbody tr th:only-of-type {\n",
       "        vertical-align: middle;\n",
       "    }\n",
       "\n",
       "    .dataframe tbody tr th {\n",
       "        vertical-align: top;\n",
       "    }\n",
       "\n",
       "    .dataframe thead th {\n",
       "        text-align: right;\n",
       "    }\n",
       "</style>\n",
       "<table border=\"1\" class=\"dataframe\">\n",
       "  <thead>\n",
       "    <tr style=\"text-align: right;\">\n",
       "      <th></th>\n",
       "      <th>date</th>\n",
       "      <th>group</th>\n",
       "      <th>orders</th>\n",
       "      <th>buyers</th>\n",
       "      <th>revenue</th>\n",
       "      <th>visits</th>\n",
       "    </tr>\n",
       "  </thead>\n",
       "  <tbody>\n",
       "    <tr>\n",
       "      <th>0</th>\n",
       "      <td>2019-08-01</td>\n",
       "      <td>A</td>\n",
       "      <td>23</td>\n",
       "      <td>19</td>\n",
       "      <td>2266.6</td>\n",
       "      <td>719</td>\n",
       "    </tr>\n",
       "    <tr>\n",
       "      <th>1</th>\n",
       "      <td>2019-08-01</td>\n",
       "      <td>B</td>\n",
       "      <td>17</td>\n",
       "      <td>17</td>\n",
       "      <td>967.2</td>\n",
       "      <td>713</td>\n",
       "    </tr>\n",
       "    <tr>\n",
       "      <th>2</th>\n",
       "      <td>2019-08-02</td>\n",
       "      <td>A</td>\n",
       "      <td>42</td>\n",
       "      <td>36</td>\n",
       "      <td>3734.9</td>\n",
       "      <td>1338</td>\n",
       "    </tr>\n",
       "    <tr>\n",
       "      <th>3</th>\n",
       "      <td>2019-08-02</td>\n",
       "      <td>B</td>\n",
       "      <td>40</td>\n",
       "      <td>39</td>\n",
       "      <td>3535.3</td>\n",
       "      <td>1294</td>\n",
       "    </tr>\n",
       "    <tr>\n",
       "      <th>4</th>\n",
       "      <td>2019-08-03</td>\n",
       "      <td>A</td>\n",
       "      <td>66</td>\n",
       "      <td>60</td>\n",
       "      <td>5550.1</td>\n",
       "      <td>1845</td>\n",
       "    </tr>\n",
       "  </tbody>\n",
       "</table>\n",
       "</div>"
      ],
      "text/plain": [
       "        date group  orders  buyers  revenue  visits\n",
       "0 2019-08-01     A      23      19   2266.6     719\n",
       "1 2019-08-01     B      17      17    967.2     713\n",
       "2 2019-08-02     A      42      36   3734.9    1338\n",
       "3 2019-08-02     B      40      39   3535.3    1294\n",
       "4 2019-08-03     A      66      60   5550.1    1845"
      ]
     },
     "execution_count": 15,
     "metadata": {},
     "output_type": "execute_result"
    }
   ],
   "source": [
    "datesGroups = orders[['date','group']].drop_duplicates()\n",
    "ordersAggregated = datesGroups.apply(lambda x: orders[np.logical_and(orders['date'] <= x['date'], orders['group'] == x['group'])].agg({\n",
    "    'date' : 'max', \n",
    "    'group' : 'max', \n",
    "    'transactionId' : pd.Series.nunique, \n",
    "    'visitorId' : pd.Series.nunique, \n",
    "    'revenue' : 'sum'}), axis=1).sort_values(by=['date','group'])\n",
    "visitorsAggregated = datesGroups.apply(lambda x: visitors[np.logical_and(visitors['date'] <= x['date'], visitors['group'] == x['group'])].agg({\n",
    "    'date' : 'max', \n",
    "    'group' : 'max', \n",
    "    'visits' : 'sum'}), axis=1).sort_values(by=['date','group'])\n",
    "cumulativeData = ordersAggregated.merge(visitorsAggregated, left_on=['date', 'group'], right_on=['date', 'group'])\n",
    "cumulativeData.columns = ['date', 'group', 'orders', 'buyers', 'revenue', 'visits']\n",
    "\n",
    "cumulativeData.head(5)\n"
   ]
  },
  {
   "cell_type": "code",
   "execution_count": 16,
   "metadata": {},
   "outputs": [
    {
     "data": {
      "image/png": "[encoded data removed]",
      "text/plain": [
       "<Figure size 640x480 with 1 Axes>"
      ]
     },
     "metadata": {},
     "output_type": "display_data"
    }
   ],
   "source": [
    "# DataFrame with cumulative orders and cumulative revenue by day, group A\n",
    "cumulativeRevenueA = cumulativeData[cumulativeData['group']=='A'][['date','revenue', 'orders']]\n",
    "\n",
    "# DataFrame with cumulative orders and cumulative revenue by day, group B\n",
    "cumulativeRevenueB = cumulativeData[cumulativeData['group']=='B'][['date','revenue', 'orders']]\n",
    "\n",
    "# Plotting the group A revenue graph \n",
    "plt.plot(cumulativeRevenueA['date'], cumulativeRevenueA['revenue'], label='A')\n",
    "\n",
    "# Plotting the group B revenue graph \n",
    "plt.plot(cumulativeRevenueB['date'], cumulativeRevenueB['revenue'], label='B')\n",
    "\n",
    "plt.title('Total Income Graph by Group')\n",
    "plt.legend()\n",
    "plt.xticks(rotation=45)\n",
    "plt.show()"
   ]
  },
  {
   "cell_type": "markdown",
   "metadata": {},
   "source": [
    "Revenue increases steadily throughout the test. However, we see a spike in revenue at a certain point in Group B. This could indicate either a spike in the number of orders or the presence of very expensive orders in the sample."
   ]
  },
  {
   "cell_type": "code",
   "execution_count": 17,
   "metadata": {},
   "outputs": [
    {
     "data": {
      "image/png": "[encoded data removed]",
      "text/plain": [
       "<Figure size 640x480 with 1 Axes>"
      ]
     },
     "metadata": {},
     "output_type": "display_data"
    }
   ],
   "source": [
    "plt.plot(cumulativeRevenueA['date'], cumulativeRevenueA['revenue']/cumulativeRevenueA['orders'], label='A')\n",
    "plt.plot(cumulativeRevenueB['date'], cumulativeRevenueB['revenue']/cumulativeRevenueB['orders'], label='B')\n",
    "plt.title('Graph of total average order size by groups')\n",
    "plt.legend()\n",
    "plt.xticks(rotation=45)\n",
    "plt.show()"
   ]
  },
  {
   "cell_type": "markdown",
   "metadata": {},
   "source": [
    "The average purchase size also stabilizes towards the end of the test: it stabilizes for Group A and continues to fall for Group B."
   ]
  },
  {
   "cell_type": "code",
   "execution_count": 18,
   "metadata": {},
   "outputs": [
    {
     "data": {
      "image/png": "[encoded data removed]",
      "text/plain": [
       "<Figure size 640x480 with 1 Axes>"
      ]
     },
     "metadata": {},
     "output_type": "display_data"
    }
   ],
   "source": [
    "# gathering the data into one DataFrame\n",
    "mergedCumulativeRevenue = cumulativeRevenueA.merge(cumulativeRevenueB, left_on='date', right_on='date', how='left', suffixes=['A', 'B'])\n",
    "\n",
    "# plotting a relative difference graph for the average purchase sizes\n",
    "plt.plot(mergedCumulativeRevenue['date'], (mergedCumulativeRevenue['revenueB']/mergedCumulativeRevenue['ordersB'])/(mergedCumulativeRevenue['revenueA']/mergedCumulativeRevenue['ordersA'])-1)\n",
    "\n",
    "# adding the X axis\n",
    "plt.axhline(y=0, color='black', linestyle='--')\n",
    "plt.title('Graph of the relative difference in the total average order size')\n",
    "plt.xticks(rotation=45)\n",
    "plt.show()"
   ]
  },
  {
   "cell_type": "markdown",
   "metadata": {},
   "source": [
    "At several points the difference between the segments increases sharply, which means there must be some large orders and outliers."
   ]
  },
  {
   "cell_type": "code",
   "execution_count": 19,
   "metadata": {},
   "outputs": [
    {
     "data": {
      "image/png": "[encoded data removed]",
      "text/plain": [
       "<Figure size 640x480 with 1 Axes>"
      ]
     },
     "metadata": {},
     "output_type": "display_data"
    }
   ],
   "source": [
    "# calculating cumulative conversion\n",
    "cumulativeData['conversion'] = cumulativeData['orders']/cumulativeData['visits']\n",
    "\n",
    "# selecting data on group A \n",
    "cumulativeDataA = cumulativeData[cumulativeData['group']=='A']\n",
    "\n",
    "# selecting data on group B\n",
    "cumulativeDataB = cumulativeData[cumulativeData['group']=='B']\n",
    "\n",
    "# plotting the graphs\n",
    "plt.plot(cumulativeDataA['date'], cumulativeDataA['conversion'], label='A')\n",
    "plt.plot(cumulativeDataB['date'], cumulativeDataB['conversion'], label='B')\n",
    "plt.legend()\n",
    "\n",
    "# setting the axes' scale\n",
    "plt.axis([pd.Timestamp(\"2019-08-01\"), pd.Timestamp(\"2019-08-31\"), 0, 0.04])\n",
    "plt.title('Daily conversion rate chart for two groups')\n",
    "plt.xticks(rotation=45)\n",
    "plt.show()"
   ]
  },
  {
   "cell_type": "markdown",
   "metadata": {},
   "source": [
    "There are minor differences in conversion rates between Groups A and B. Overall, Group B performs slightly better than Group A."
   ]
  },
  {
   "cell_type": "code",
   "execution_count": 20,
   "metadata": {},
   "outputs": [
    {
     "data": {
      "image/png": "[encoded data removed]",
      "text/plain": [
       "<Figure size 640x480 with 1 Axes>"
      ]
     },
     "metadata": {},
     "output_type": "display_data"
    }
   ],
   "source": [
    "mergedCumulativeConversions = cumulativeDataA[['date','conversion']].merge(cumulativeDataB[['date','conversion']], left_on='date', right_on='date', how='left', suffixes=['A', 'B'])\n",
    "\n",
    "plt.plot(mergedCumulativeConversions['date'], mergedCumulativeConversions['conversionB']/mergedCumulativeConversions['conversionA']-1)\n",
    "\n",
    "plt.axhline(y=0, color='black', linestyle='--')\n",
    "plt.axhline(y=-0.1, color='grey', linestyle='--')\n",
    "plt.axis([pd.Timestamp(\"2019-08-01\"), pd.Timestamp(\"2019-08-31\"), -0.25, 0.25])\n",
    "plt.title('Relative Difference in Cumulative Conversion Rates Graph')\n",
    "plt.xticks(rotation=45)\n",
    "plt.show()"
   ]
  },
  {
   "cell_type": "markdown",
   "metadata": {},
   "source": [
    "In some periods, one group showed higher conversion rates (values ​​above the zero line), and in other periods, the other group did better (values below the zero line). This suggests that the leadership in conversion rates was shifting from one group to another."
   ]
  },
  {
   "cell_type": "markdown",
   "metadata": {},
   "source": [
    "## Analyzing Outliers and Surges"
   ]
  },
  {
   "cell_type": "code",
   "execution_count": 21,
   "metadata": {},
   "outputs": [
    {
     "data": {
      "text/html": [
       "<div>\n",
       "<style scoped>\n",
       "    .dataframe tbody tr th:only-of-type {\n",
       "        vertical-align: middle;\n",
       "    }\n",
       "\n",
       "    .dataframe tbody tr th {\n",
       "        vertical-align: top;\n",
       "    }\n",
       "\n",
       "    .dataframe thead th {\n",
       "        text-align: right;\n",
       "    }\n",
       "</style>\n",
       "<table border=\"1\" class=\"dataframe\">\n",
       "  <thead>\n",
       "    <tr style=\"text-align: right;\">\n",
       "      <th></th>\n",
       "      <th>userId</th>\n",
       "      <th>orders</th>\n",
       "    </tr>\n",
       "  </thead>\n",
       "  <tbody>\n",
       "    <tr>\n",
       "      <th>908</th>\n",
       "      <td>3967698036</td>\n",
       "      <td>3</td>\n",
       "    </tr>\n",
       "    <tr>\n",
       "      <th>55</th>\n",
       "      <td>249864742</td>\n",
       "      <td>3</td>\n",
       "    </tr>\n",
       "    <tr>\n",
       "      <th>478</th>\n",
       "      <td>2108163459</td>\n",
       "      <td>3</td>\n",
       "    </tr>\n",
       "    <tr>\n",
       "      <th>687</th>\n",
       "      <td>2988190573</td>\n",
       "      <td>3</td>\n",
       "    </tr>\n",
       "    <tr>\n",
       "      <th>890</th>\n",
       "      <td>3908431265</td>\n",
       "      <td>3</td>\n",
       "    </tr>\n",
       "    <tr>\n",
       "      <th>138</th>\n",
       "      <td>611059232</td>\n",
       "      <td>3</td>\n",
       "    </tr>\n",
       "    <tr>\n",
       "      <th>632</th>\n",
       "      <td>2742574263</td>\n",
       "      <td>3</td>\n",
       "    </tr>\n",
       "    <tr>\n",
       "      <th>157</th>\n",
       "      <td>678354126</td>\n",
       "      <td>2</td>\n",
       "    </tr>\n",
       "    <tr>\n",
       "      <th>323</th>\n",
       "      <td>1404560065</td>\n",
       "      <td>2</td>\n",
       "    </tr>\n",
       "    <tr>\n",
       "      <th>452</th>\n",
       "      <td>1985475298</td>\n",
       "      <td>2</td>\n",
       "    </tr>\n",
       "  </tbody>\n",
       "</table>\n",
       "</div>"
      ],
      "text/plain": [
       "         userId  orders\n",
       "908  3967698036       3\n",
       "55    249864742       3\n",
       "478  2108163459       3\n",
       "687  2988190573       3\n",
       "890  3908431265       3\n",
       "138   611059232       3\n",
       "632  2742574263       3\n",
       "157   678354126       2\n",
       "323  1404560065       2\n",
       "452  1985475298       2"
      ]
     },
     "execution_count": 21,
     "metadata": {},
     "output_type": "execute_result"
    }
   ],
   "source": [
    "ordersByUsers = (\n",
    "    orders.drop(['group', 'revenue', 'date'], axis=1)\n",
    "    .groupby('visitorId', as_index=False)\n",
    "    .agg({'transactionId': pd.Series.nunique})\n",
    ")\n",
    "\n",
    "ordersByUsers.columns = ['userId', 'orders']\n",
    "\n",
    "ordersByUsers.sort_values(by='orders', ascending=False).head(10)"
   ]
  },
  {
   "cell_type": "code",
   "execution_count": 22,
   "metadata": {},
   "outputs": [
    {
     "data": {
      "text/plain": [
       "Text(0.5, 1.0, 'Scatter chart of the number of orders per user')"
      ]
     },
     "execution_count": 22,
     "metadata": {},
     "output_type": "execute_result"
    },
    {
     "data": {
      "image/png": "[encoded data removed]",
      "text/plain": [
       "<Figure size 640x480 with 1 Axes>"
      ]
     },
     "metadata": {},
     "output_type": "display_data"
    }
   ],
   "source": [
    "x_values = pd.Series(range(0,len(ordersByUsers)))\n",
    "\n",
    "plt.scatter(x_values, ordersByUsers['orders'])\n",
    "plt.title('Scatter chart of the number of orders per user', fontsize=16)"
   ]
  },
  {
   "cell_type": "markdown",
   "metadata": {},
   "source": [
    "The graph shows that there are indeed many users with two or three orders."
   ]
  },
  {
   "cell_type": "code",
   "execution_count": 23,
   "metadata": {},
   "outputs": [
    {
     "data": {
      "text/plain": [
       "array([1., 2.])"
      ]
     },
     "execution_count": 23,
     "metadata": {},
     "output_type": "execute_result"
    }
   ],
   "source": [
    "np.percentile(ordersByUsers['orders'], [95, 99])"
   ]
  },
  {
   "cell_type": "markdown",
   "metadata": {},
   "source": [
    "5% of users made more than 1 order. Let's label these users as abnormal."
   ]
  },
  {
   "cell_type": "code",
   "execution_count": 24,
   "metadata": {},
   "outputs": [
    {
     "data": {
      "text/html": [
       "<div>\n",
       "<style scoped>\n",
       "    .dataframe tbody tr th:only-of-type {\n",
       "        vertical-align: middle;\n",
       "    }\n",
       "\n",
       "    .dataframe tbody tr th {\n",
       "        vertical-align: top;\n",
       "    }\n",
       "\n",
       "    .dataframe thead th {\n",
       "        text-align: right;\n",
       "    }\n",
       "</style>\n",
       "<table border=\"1\" class=\"dataframe\">\n",
       "  <thead>\n",
       "    <tr style=\"text-align: right;\">\n",
       "      <th></th>\n",
       "      <th>transactionId</th>\n",
       "      <th>visitorId</th>\n",
       "      <th>date</th>\n",
       "      <th>revenue</th>\n",
       "      <th>group</th>\n",
       "    </tr>\n",
       "  </thead>\n",
       "  <tbody>\n",
       "    <tr>\n",
       "      <th>425</th>\n",
       "      <td>590470918</td>\n",
       "      <td>1920142716</td>\n",
       "      <td>2019-08-19</td>\n",
       "      <td>19920.4</td>\n",
       "      <td>B</td>\n",
       "    </tr>\n",
       "    <tr>\n",
       "      <th>1196</th>\n",
       "      <td>3936777065</td>\n",
       "      <td>2108080724</td>\n",
       "      <td>2019-08-15</td>\n",
       "      <td>3120.1</td>\n",
       "      <td>B</td>\n",
       "    </tr>\n",
       "    <tr>\n",
       "      <th>1136</th>\n",
       "      <td>666610489</td>\n",
       "      <td>1307669133</td>\n",
       "      <td>2019-08-13</td>\n",
       "      <td>1425.8</td>\n",
       "      <td>A</td>\n",
       "    </tr>\n",
       "    <tr>\n",
       "      <th>744</th>\n",
       "      <td>3668308183</td>\n",
       "      <td>888512513</td>\n",
       "      <td>2019-08-27</td>\n",
       "      <td>1335.6</td>\n",
       "      <td>B</td>\n",
       "    </tr>\n",
       "    <tr>\n",
       "      <th>743</th>\n",
       "      <td>3603576309</td>\n",
       "      <td>4133034833</td>\n",
       "      <td>2019-08-09</td>\n",
       "      <td>1050.0</td>\n",
       "      <td>A</td>\n",
       "    </tr>\n",
       "    <tr>\n",
       "      <th>1103</th>\n",
       "      <td>1348774318</td>\n",
       "      <td>1164614297</td>\n",
       "      <td>2019-08-12</td>\n",
       "      <td>1025.8</td>\n",
       "      <td>A</td>\n",
       "    </tr>\n",
       "    <tr>\n",
       "      <th>1099</th>\n",
       "      <td>316924019</td>\n",
       "      <td>148427295</td>\n",
       "      <td>2019-08-12</td>\n",
       "      <td>1015.9</td>\n",
       "      <td>A</td>\n",
       "    </tr>\n",
       "    <tr>\n",
       "      <th>949</th>\n",
       "      <td>1347999392</td>\n",
       "      <td>887908475</td>\n",
       "      <td>2019-08-21</td>\n",
       "      <td>930.0</td>\n",
       "      <td>A</td>\n",
       "    </tr>\n",
       "    <tr>\n",
       "      <th>940</th>\n",
       "      <td>2420050534</td>\n",
       "      <td>4003628586</td>\n",
       "      <td>2019-08-08</td>\n",
       "      <td>905.8</td>\n",
       "      <td>B</td>\n",
       "    </tr>\n",
       "    <tr>\n",
       "      <th>613</th>\n",
       "      <td>4071177889</td>\n",
       "      <td>3931967268</td>\n",
       "      <td>2019-08-07</td>\n",
       "      <td>830.3</td>\n",
       "      <td>B</td>\n",
       "    </tr>\n",
       "  </tbody>\n",
       "</table>\n",
       "</div>"
      ],
      "text/plain": [
       "      transactionId   visitorId       date  revenue group\n",
       "425       590470918  1920142716 2019-08-19  19920.4     B\n",
       "1196     3936777065  2108080724 2019-08-15   3120.1     B\n",
       "1136      666610489  1307669133 2019-08-13   1425.8     A\n",
       "744      3668308183   888512513 2019-08-27   1335.6     B\n",
       "743      3603576309  4133034833 2019-08-09   1050.0     A\n",
       "1103     1348774318  1164614297 2019-08-12   1025.8     A\n",
       "1099      316924019   148427295 2019-08-12   1015.9     A\n",
       "949      1347999392   887908475 2019-08-21    930.0     A\n",
       "940      2420050534  4003628586 2019-08-08    905.8     B\n",
       "613      4071177889  3931967268 2019-08-07    830.3     B"
      ]
     },
     "execution_count": 24,
     "metadata": {},
     "output_type": "execute_result"
    }
   ],
   "source": [
    "orders.sort_values(by='revenue', ascending=False).head(10)"
   ]
  },
  {
   "cell_type": "code",
   "execution_count": 25,
   "metadata": {},
   "outputs": [
    {
     "data": {
      "text/plain": [
       "Text(0.5, 1.0, 'Scatter chart of order prices')"
      ]
     },
     "execution_count": 25,
     "metadata": {},
     "output_type": "execute_result"
    },
    {
     "data": {
      "image/png": "[encoded data removed]",
      "text/plain": [
       "<Figure size 640x480 with 1 Axes>"
      ]
     },
     "metadata": {},
     "output_type": "display_data"
    }
   ],
   "source": [
    "x_values = pd.Series(range(0,len(orders['revenue'])))\n",
    "\n",
    "plt.scatter(x_values, orders['revenue'])\n",
    "plt.title('Scatter chart of order prices', fontsize=16)"
   ]
  },
  {
   "cell_type": "markdown",
   "metadata": {},
   "source": [
    "The chart shows two abnormal orders."
   ]
  },
  {
   "cell_type": "code",
   "execution_count": 26,
   "metadata": {},
   "outputs": [
    {
     "data": {
      "text/plain": [
       "array([414.275, 830.3  ])"
      ]
     },
     "execution_count": 26,
     "metadata": {},
     "output_type": "execute_result"
    }
   ],
   "source": [
    "np.percentile(orders['revenue'], [95, 99])"
   ]
  },
  {
   "cell_type": "markdown",
   "metadata": {},
   "source": [
    "5% of orders have a sum greater than 414.275. Let's choose this number as an anomaly."
   ]
  },
  {
   "cell_type": "markdown",
   "metadata": {},
   "source": [
    "## Statistical significance of the difference in conversion between groups using raw data."
   ]
  },
  {
   "cell_type": "markdown",
   "metadata": {},
   "source": [
    "Null hypothesis - There is no significant difference in conversion between groups A and B (conversions are the same).\n",
    "\n",
    "Alternative hypothesis - There is a significant difference in conversion between groups A and B (conversions are different)."
   ]
  },
  {
   "cell_type": "code",
   "execution_count": 27,
   "metadata": {},
   "outputs": [
    {
     "name": "stdout",
     "output_type": "stream",
     "text": [
      "P-value: 0.011\n",
      "Difference in conversion rate: 0.160\n"
     ]
    }
   ],
   "source": [
    "ordersByUsersA = orders[orders['group']=='A'].groupby('visitorId', as_index=False).agg({'transactionId' : pd.Series.nunique})\n",
    "ordersByUsersA.columns = ['userId', 'orders']\n",
    "\n",
    "ordersByUsersB = orders[orders['group']=='B'].groupby('visitorId', as_index=False).agg({'transactionId' : pd.Series.nunique})\n",
    "ordersByUsersB.columns = ['userId', 'orders']\n",
    "\n",
    "sampleA = pd.concat([ordersByUsersA['orders'],pd.Series(0, index=np.arange(visitors[visitors['group']=='A']['visits'].sum() - len(ordersByUsersA['orders'])), name='orders')],axis=0)\n",
    "\n",
    "sampleB = pd.concat([ordersByUsersB['orders'],pd.Series(0, index=np.arange(visitors[visitors['group']=='B']['visits'].sum() - len(ordersByUsersB['orders'])), name='orders')],axis=0)\n",
    "\n",
    "print(\"P-value: {0:.3f}\".format(stats.mannwhitneyu(sampleA, sampleB)[1]))\n",
    "\n",
    "print(\"Difference in conversion rate: {0:.3f}\".format(sampleB.mean()/sampleA.mean()-1))"
   ]
  },
  {
   "cell_type": "markdown",
   "metadata": {},
   "source": [
    "The P value is less than 0.05, so we reject the null hypothesis, statistically significant difference is present. Conversion of group B is better by 16%."
   ]
  },
  {
   "cell_type": "markdown",
   "metadata": {},
   "source": [
    "## Statistical significance of the difference in average order size between groups using raw data."
   ]
  },
  {
   "cell_type": "markdown",
   "metadata": {},
   "source": [
    "Null Hypothesis - There is no significant difference in the average order size between Groups A and B (means are the same).\n",
    "\n",
    "Alternative Hypothesis - There is a significant difference in the average order size between Groups A and B (means are different)."
   ]
  },
  {
   "cell_type": "code",
   "execution_count": 28,
   "metadata": {},
   "outputs": [
    {
     "name": "stdout",
     "output_type": "stream",
     "text": [
      "P-value: 0.862\n",
      "Relative difference in average order size: 0.278\n"
     ]
    }
   ],
   "source": [
    "print('P-value: {0:.3f}'.format(stats.mannwhitneyu(orders[orders['group']=='A']['revenue'], orders[orders['group']=='B']['revenue'])[1]))\n",
    "print('Relative difference in average order size: {0:.3f}'.format(orders[orders['group']=='B']['revenue'].mean()/orders[orders['group']=='A']['revenue'].mean()-1))"
   ]
  },
  {
   "cell_type": "markdown",
   "metadata": {},
   "source": [
    "The P value is greater than 0.05, so we cannot reject the null hypothesis. Although the difference in average order size between groups is 28%."
   ]
  },
  {
   "cell_type": "markdown",
   "metadata": {},
   "source": [
    "## Find the total number of abnormal users"
   ]
  },
  {
   "cell_type": "code",
   "execution_count": 29,
   "metadata": {},
   "outputs": [
    {
     "name": "stdout",
     "output_type": "stream",
     "text": [
      "568     113298937\n",
      "1099    148427295\n",
      "928     204675465\n",
      "33      249864742\n",
      "684     358944393\n",
      "dtype: int64\n",
      "(86,)\n"
     ]
    }
   ],
   "source": [
    "orders_95th_percentile = ordersByUsersA['orders'].quantile(0.95)\n",
    "revenue_95th_percentile = orders['revenue'].quantile(0.95)\n",
    "\n",
    "usersWithManyOrders = pd.concat([ordersByUsersA[ordersByUsersA['orders'] > orders_95th_percentile]['userId'],\n",
    "                                 ordersByUsersB[ordersByUsersB['orders'] > orders_95th_percentile]['userId']], axis=0)\n",
    "\n",
    "usersWithExpensiveOrders = orders[orders['revenue'] > revenue_95th_percentile]['visitorId']\n",
    "\n",
    "abnormalUsers = pd.concat([usersWithManyOrders, usersWithExpensiveOrders], axis=0).drop_duplicates().sort_values()\n",
    "\n",
    "print(abnormalUsers.head(5))\n",
    "print(abnormalUsers.shape)"
   ]
  },
  {
   "cell_type": "markdown",
   "metadata": {},
   "source": [
    "## Statistical significance of the difference in conversion between groups using filtered data."
   ]
  },
  {
   "cell_type": "markdown",
   "metadata": {},
   "source": [
    "Null hypothesis - There is no significant difference in conversion between groups A and B (conversions are the same).\n",
    "\n",
    "Alternative hypothesis - There is a significant difference in conversion between groups A and B (conversions are different)."
   ]
  },
  {
   "cell_type": "code",
   "execution_count": 30,
   "metadata": {},
   "outputs": [
    {
     "name": "stdout",
     "output_type": "stream",
     "text": [
      "P-value: 0.016\n",
      "Difference in conversion rate: 0.174\n"
     ]
    }
   ],
   "source": [
    "sampleAFiltered = pd.concat([ordersByUsersA[np.logical_not(ordersByUsersA['userId'].isin(abnormalUsers))]['orders'],pd.Series(0, index=np.arange(visitors[visitors['group']=='A']['visits'].sum() - len(ordersByUsersA['orders'])),name='orders')],axis=0)\n",
    "\n",
    "sampleBFiltered = pd.concat([ordersByUsersB[np.logical_not(ordersByUsersB['userId'].isin(abnormalUsers))]['orders'],pd.Series(0, index=np.arange(visitors[visitors['group']=='B']['visits'].sum() - len(ordersByUsersB['orders'])),name='orders')],axis=0)\n",
    "\n",
    "print(\"P-value: {0:.3f}\".format(stats.mannwhitneyu(sampleAFiltered, sampleBFiltered)[1]))\n",
    "print(\"Difference in conversion rate: {0:.3f}\".format(sampleBFiltered.mean()/sampleAFiltered.mean()-1))"
   ]
  },
  {
   "cell_type": "markdown",
   "metadata": {},
   "source": [
    "The P value has increased slightly, but is still less than 0.05. There is a statistically significant difference. Group B is 17% better."
   ]
  },
  {
   "cell_type": "markdown",
   "metadata": {},
   "source": [
    "## Statistical significance of the difference in average order size between groups using filtered data."
   ]
  },
  {
   "cell_type": "markdown",
   "metadata": {},
   "source": [
    "Null Hypothesis - There is no significant difference in the average order size between Groups A and B (means are the same).\n",
    "\n",
    "Alternative Hypothesis - There is a significant difference in the average order size between Groups A and B (means are different)."
   ]
  },
  {
   "cell_type": "code",
   "execution_count": 31,
   "metadata": {},
   "outputs": [
    {
     "name": "stdout",
     "output_type": "stream",
     "text": [
      "P-value: 0.771\n",
      "Relative difference in average order size: -0.033\n"
     ]
    }
   ],
   "source": [
    "print('P-value: {0:.3f}'.format(stats.mannwhitneyu(\n",
    "    orders[np.logical_and(\n",
    "        orders['group']=='A',\n",
    "        np.logical_not(orders['visitorId'].isin(abnormalUsers)))]['revenue'],\n",
    "    orders[np.logical_and(\n",
    "        orders['group']=='B',\n",
    "        np.logical_not(orders['visitorId'].isin(abnormalUsers)))]['revenue'])[1]))\n",
    "\n",
    "print('Relative difference in average order size: {0:.3f}'.format(\n",
    "    orders[np.logical_and(orders['group']=='B',np.logical_not(orders['visitorId'].isin(abnormalUsers)))]['revenue'].mean()/\n",
    "    orders[np.logical_and(\n",
    "        orders['group']=='A',\n",
    "        np.logical_not(orders['visitorId'].isin(abnormalUsers)))]['revenue'].mean() - 1))"
   ]
  },
  {
   "cell_type": "markdown",
   "metadata": {},
   "source": [
    "The P value has decreased but is still greater than 0.05, so we cannot reject the null hypothesis. There is no statistically significant difference. But in the unfiltered data, Group B was ahead by 28% and is now behind by 3%. Anomalies in orders affect the test results."
   ]
  },
  {
   "cell_type": "markdown",
   "metadata": {},
   "source": [
    "## Conclusion"
   ]
  },
  {
   "cell_type": "markdown",
   "metadata": {},
   "source": [
    "Data analysis (both raw and filtered) showed statistically significant differences in conversion between Groups A and B, with Group B performing better with a difference of 16% (for raw data) and 17% (after filtering out abnormal users).\n",
    "\n",
    "Regarding average order size, there was no statistically significant difference between the groups in either raw or filtered data, despite some differences in values.\n",
    "\n",
    "Recommendations:\n",
    "Given that the main improvement was found in conversion, it is recommended to stop additional testing at this stage. Instead, focus on optimizing the factors that influence conversion, with an emphasis on improvements in Group B. Separate experiments can be conducted to increase the average order size if this is critical for the business."
   ]
  }
 ],
 "metadata": {
  "ExecuteTimeLog": [
   {
    "duration": 314,
    "start_time": "2024-11-13T13:15:01.184Z"
   },
   {
    "duration": 14,
    "start_time": "2024-11-13T13:16:57.394Z"
   },
   {
    "duration": 9,
    "start_time": "2024-11-13T13:17:08.008Z"
   },
   {
    "duration": 9,
    "start_time": "2024-11-13T13:17:22.910Z"
   },
   {
    "duration": 14,
    "start_time": "2024-11-13T13:27:11.425Z"
   },
   {
    "duration": 87,
    "start_time": "2024-11-13T13:28:12.297Z"
   },
   {
    "duration": 107,
    "start_time": "2024-11-13T13:28:19.596Z"
   },
   {
    "duration": 4,
    "start_time": "2024-11-13T13:29:47.985Z"
   },
   {
    "duration": 12,
    "start_time": "2024-11-13T13:30:47.135Z"
   },
   {
    "duration": 10,
    "start_time": "2024-11-13T13:31:16.576Z"
   },
   {
    "duration": 9,
    "start_time": "2024-11-13T13:31:20.646Z"
   },
   {
    "duration": 12,
    "start_time": "2024-11-13T13:31:26.422Z"
   },
   {
    "duration": 17,
    "start_time": "2024-11-13T13:40:41.883Z"
   },
   {
    "duration": 11,
    "start_time": "2024-11-13T13:41:39.859Z"
   },
   {
    "duration": 12,
    "start_time": "2024-11-13T13:42:00.956Z"
   },
   {
    "duration": 2,
    "start_time": "2024-11-13T13:43:25.588Z"
   },
   {
    "duration": 19,
    "start_time": "2024-11-13T13:45:01.046Z"
   },
   {
    "duration": 12,
    "start_time": "2024-11-13T13:45:34.550Z"
   },
   {
    "duration": 12,
    "start_time": "2024-11-13T13:54:10.520Z"
   },
   {
    "duration": 301,
    "start_time": "2024-11-14T11:23:13.887Z"
   },
   {
    "duration": 14,
    "start_time": "2024-11-14T11:23:14.190Z"
   },
   {
    "duration": 11,
    "start_time": "2024-11-14T11:23:14.205Z"
   },
   {
    "duration": 9,
    "start_time": "2024-11-14T11:23:14.217Z"
   },
   {
    "duration": 20,
    "start_time": "2024-11-14T11:23:14.229Z"
   },
   {
    "duration": 13,
    "start_time": "2024-11-14T11:23:14.250Z"
   },
   {
    "duration": 176,
    "start_time": "2024-11-14T11:23:14.287Z"
   },
   {
    "duration": 234,
    "start_time": "2024-11-14T11:30:03.442Z"
   },
   {
    "duration": 1824,
    "start_time": "2024-11-14T11:32:04.357Z"
   },
   {
    "duration": 138,
    "start_time": "2024-11-14T11:34:16.194Z"
   },
   {
    "duration": 188,
    "start_time": "2024-11-14T11:35:27.338Z"
   },
   {
    "duration": 142,
    "start_time": "2024-11-14T11:42:51.509Z"
   },
   {
    "duration": 131,
    "start_time": "2024-11-14T11:43:58.159Z"
   },
   {
    "duration": 140,
    "start_time": "2024-11-14T11:44:21.320Z"
   },
   {
    "duration": 252,
    "start_time": "2024-11-14T11:49:03.407Z"
   },
   {
    "duration": 251,
    "start_time": "2024-11-14T11:49:46.509Z"
   },
   {
    "duration": 213,
    "start_time": "2024-11-14T11:50:04.659Z"
   },
   {
    "duration": 138,
    "start_time": "2024-11-14T11:50:18.347Z"
   },
   {
    "duration": 217,
    "start_time": "2024-11-14T11:50:23.746Z"
   },
   {
    "duration": 434,
    "start_time": "2024-11-14T11:54:53.052Z"
   },
   {
    "duration": 805,
    "start_time": "2024-11-14T11:55:00.290Z"
   },
   {
    "duration": 205,
    "start_time": "2024-11-14T11:55:22.490Z"
   },
   {
    "duration": 207,
    "start_time": "2024-11-14T11:57:38.854Z"
   },
   {
    "duration": 199,
    "start_time": "2024-11-14T12:01:14.832Z"
   },
   {
    "duration": 422,
    "start_time": "2024-11-14T12:02:28.834Z"
   },
   {
    "duration": 51,
    "start_time": "2024-11-14T12:02:29.258Z"
   },
   {
    "duration": 11,
    "start_time": "2024-11-14T12:02:29.310Z"
   },
   {
    "duration": 10,
    "start_time": "2024-11-14T12:02:29.322Z"
   },
   {
    "duration": 18,
    "start_time": "2024-11-14T12:02:29.335Z"
   },
   {
    "duration": 33,
    "start_time": "2024-11-14T12:02:29.355Z"
   },
   {
    "duration": 223,
    "start_time": "2024-11-14T12:02:29.389Z"
   },
   {
    "duration": 156,
    "start_time": "2024-11-14T12:02:29.614Z"
   },
   {
    "duration": 149,
    "start_time": "2024-11-14T12:02:29.772Z"
   },
   {
    "duration": 244,
    "start_time": "2024-11-14T12:02:29.923Z"
   },
   {
    "duration": 886,
    "start_time": "2024-11-14T12:02:30.169Z"
   },
   {
    "duration": 268,
    "start_time": "2024-11-14T12:03:26.915Z"
   },
   {
    "duration": 14,
    "start_time": "2024-11-14T12:07:09.742Z"
   },
   {
    "duration": 8,
    "start_time": "2024-11-14T12:07:52.814Z"
   },
   {
    "duration": 11,
    "start_time": "2024-11-14T12:08:28.103Z"
   },
   {
    "duration": 5,
    "start_time": "2024-11-14T12:08:57.088Z"
   },
   {
    "duration": 11,
    "start_time": "2024-11-14T12:09:37.557Z"
   },
   {
    "duration": 5,
    "start_time": "2024-11-14T12:09:40.968Z"
   },
   {
    "duration": 166,
    "start_time": "2024-11-14T12:10:31.324Z"
   },
   {
    "duration": 145,
    "start_time": "2024-11-14T12:11:45.130Z"
   },
   {
    "duration": 322,
    "start_time": "2024-11-14T12:12:27.507Z"
   },
   {
    "duration": 147,
    "start_time": "2024-11-14T12:12:43.619Z"
   },
   {
    "duration": 218,
    "start_time": "2024-11-14T12:18:10.101Z"
   },
   {
    "duration": 444,
    "start_time": "2024-11-14T12:18:18.398Z"
   },
   {
    "duration": 50,
    "start_time": "2024-11-14T12:18:18.844Z"
   },
   {
    "duration": 10,
    "start_time": "2024-11-14T12:18:18.896Z"
   },
   {
    "duration": 9,
    "start_time": "2024-11-14T12:18:18.908Z"
   },
   {
    "duration": 18,
    "start_time": "2024-11-14T12:18:18.919Z"
   },
   {
    "duration": 11,
    "start_time": "2024-11-14T12:18:18.938Z"
   },
   {
    "duration": 246,
    "start_time": "2024-11-14T12:18:18.951Z"
   },
   {
    "duration": 157,
    "start_time": "2024-11-14T12:18:19.199Z"
   },
   {
    "duration": 146,
    "start_time": "2024-11-14T12:18:19.358Z"
   },
   {
    "duration": 245,
    "start_time": "2024-11-14T12:18:19.506Z"
   },
   {
    "duration": 164,
    "start_time": "2024-11-14T12:18:19.753Z"
   },
   {
    "duration": 3,
    "start_time": "2024-11-14T12:22:30.342Z"
   },
   {
    "duration": 142,
    "start_time": "2024-11-14T12:23:15.839Z"
   },
   {
    "duration": 147,
    "start_time": "2024-11-14T12:23:25.802Z"
   },
   {
    "duration": 3,
    "start_time": "2024-11-14T12:24:08.272Z"
   },
   {
    "duration": 3,
    "start_time": "2024-11-14T12:24:20.471Z"
   },
   {
    "duration": 1004,
    "start_time": "2024-11-14T12:27:55.978Z"
   },
   {
    "duration": 153,
    "start_time": "2024-11-14T12:28:23.466Z"
   },
   {
    "duration": 285,
    "start_time": "2024-11-14T12:28:42.130Z"
   },
   {
    "duration": 216,
    "start_time": "2024-11-14T12:28:57.572Z"
   },
   {
    "duration": 221,
    "start_time": "2024-11-14T12:30:45.115Z"
   },
   {
    "duration": 129,
    "start_time": "2024-11-14T12:31:50.557Z"
   },
   {
    "duration": 145,
    "start_time": "2024-11-14T12:31:58.156Z"
   },
   {
    "duration": 232,
    "start_time": "2024-11-14T12:32:06.189Z"
   },
   {
    "duration": 416,
    "start_time": "2024-11-14T12:40:49.727Z"
   },
   {
    "duration": 50,
    "start_time": "2024-11-14T12:40:50.145Z"
   },
   {
    "duration": 10,
    "start_time": "2024-11-14T12:40:50.197Z"
   },
   {
    "duration": 9,
    "start_time": "2024-11-14T12:40:50.209Z"
   },
   {
    "duration": 19,
    "start_time": "2024-11-14T12:40:50.220Z"
   },
   {
    "duration": 11,
    "start_time": "2024-11-14T12:40:50.241Z"
   },
   {
    "duration": 248,
    "start_time": "2024-11-14T12:40:50.254Z"
   },
   {
    "duration": 161,
    "start_time": "2024-11-14T12:40:50.503Z"
   },
   {
    "duration": 145,
    "start_time": "2024-11-14T12:40:50.665Z"
   },
   {
    "duration": 255,
    "start_time": "2024-11-14T12:40:50.813Z"
   },
   {
    "duration": 160,
    "start_time": "2024-11-14T12:40:51.070Z"
   },
   {
    "duration": 228,
    "start_time": "2024-11-14T12:40:51.231Z"
   },
   {
    "duration": 2152,
    "start_time": "2024-11-17T09:00:46.392Z"
   },
   {
    "duration": 13,
    "start_time": "2024-11-17T09:00:48.546Z"
   },
   {
    "duration": 9,
    "start_time": "2024-11-17T09:00:48.560Z"
   },
   {
    "duration": 9,
    "start_time": "2024-11-17T09:00:48.571Z"
   },
   {
    "duration": 19,
    "start_time": "2024-11-17T09:00:48.582Z"
   },
   {
    "duration": 11,
    "start_time": "2024-11-17T09:00:48.624Z"
   },
   {
    "duration": 238,
    "start_time": "2024-11-17T09:00:48.636Z"
   },
   {
    "duration": 159,
    "start_time": "2024-11-17T09:00:48.875Z"
   },
   {
    "duration": 184,
    "start_time": "2024-11-17T09:00:49.036Z"
   },
   {
    "duration": 285,
    "start_time": "2024-11-17T09:00:49.224Z"
   },
   {
    "duration": 153,
    "start_time": "2024-11-17T09:00:49.510Z"
   },
   {
    "duration": 232,
    "start_time": "2024-11-17T09:00:49.665Z"
   },
   {
    "duration": 182,
    "start_time": "2024-11-17T09:22:02.289Z"
   },
   {
    "duration": 127,
    "start_time": "2024-11-17T09:22:20.001Z"
   },
   {
    "duration": 90,
    "start_time": "2024-11-17T09:23:04.087Z"
   },
   {
    "duration": 95,
    "start_time": "2024-11-17T09:24:02.794Z"
   },
   {
    "duration": 4,
    "start_time": "2024-11-17T09:26:47.593Z"
   },
   {
    "duration": 99,
    "start_time": "2024-11-17T09:38:03.932Z"
   },
   {
    "duration": 114,
    "start_time": "2024-11-17T09:38:30.326Z"
   },
   {
    "duration": 5,
    "start_time": "2024-11-17T09:39:09.682Z"
   },
   {
    "duration": 138,
    "start_time": "2024-11-17T09:53:16.272Z"
   },
   {
    "duration": 474,
    "start_time": "2024-11-17T09:53:28.430Z"
   },
   {
    "duration": 95,
    "start_time": "2024-11-17T09:53:47.154Z"
   },
   {
    "duration": 446,
    "start_time": "2024-11-17T09:53:57.635Z"
   },
   {
    "duration": 45,
    "start_time": "2024-11-17T09:53:58.083Z"
   },
   {
    "duration": 11,
    "start_time": "2024-11-17T09:53:58.130Z"
   },
   {
    "duration": 9,
    "start_time": "2024-11-17T09:53:58.142Z"
   },
   {
    "duration": 20,
    "start_time": "2024-11-17T09:53:58.154Z"
   },
   {
    "duration": 12,
    "start_time": "2024-11-17T09:53:58.175Z"
   },
   {
    "duration": 253,
    "start_time": "2024-11-17T09:53:58.189Z"
   },
   {
    "duration": 154,
    "start_time": "2024-11-17T09:53:58.444Z"
   },
   {
    "duration": 145,
    "start_time": "2024-11-17T09:53:58.600Z"
   },
   {
    "duration": 254,
    "start_time": "2024-11-17T09:53:58.746Z"
   },
   {
    "duration": 153,
    "start_time": "2024-11-17T09:53:59.002Z"
   },
   {
    "duration": 228,
    "start_time": "2024-11-17T09:53:59.157Z"
   },
   {
    "duration": 115,
    "start_time": "2024-11-17T09:53:59.387Z"
   },
   {
    "duration": 102,
    "start_time": "2024-11-17T09:53:59.505Z"
   },
   {
    "duration": 16,
    "start_time": "2024-11-17T09:53:59.609Z"
   },
   {
    "duration": 116,
    "start_time": "2024-11-17T09:53:59.626Z"
   },
   {
    "duration": 5,
    "start_time": "2024-11-17T09:53:59.744Z"
   },
   {
    "duration": 112,
    "start_time": "2024-11-17T09:54:51.085Z"
   },
   {
    "duration": 4,
    "start_time": "2024-11-17T09:54:58.173Z"
   },
   {
    "duration": 9,
    "start_time": "2024-11-17T09:56:29.479Z"
   },
   {
    "duration": 117,
    "start_time": "2024-11-17T09:57:23.804Z"
   },
   {
    "duration": 4,
    "start_time": "2024-11-17T09:57:32.405Z"
   },
   {
    "duration": 427,
    "start_time": "2024-11-17T09:58:55.631Z"
   },
   {
    "duration": 41,
    "start_time": "2024-11-17T09:58:56.060Z"
   },
   {
    "duration": 21,
    "start_time": "2024-11-17T09:58:56.102Z"
   },
   {
    "duration": 9,
    "start_time": "2024-11-17T09:58:56.125Z"
   },
   {
    "duration": 18,
    "start_time": "2024-11-17T09:58:56.137Z"
   },
   {
    "duration": 11,
    "start_time": "2024-11-17T09:58:56.156Z"
   },
   {
    "duration": 241,
    "start_time": "2024-11-17T09:58:56.169Z"
   },
   {
    "duration": 162,
    "start_time": "2024-11-17T09:58:56.411Z"
   },
   {
    "duration": 146,
    "start_time": "2024-11-17T09:58:56.575Z"
   },
   {
    "duration": 254,
    "start_time": "2024-11-17T09:58:56.723Z"
   },
   {
    "duration": 152,
    "start_time": "2024-11-17T09:58:56.979Z"
   },
   {
    "duration": 249,
    "start_time": "2024-11-17T09:58:57.133Z"
   },
   {
    "duration": 112,
    "start_time": "2024-11-17T09:58:57.384Z"
   },
   {
    "duration": 113,
    "start_time": "2024-11-17T09:58:57.499Z"
   },
   {
    "duration": 14,
    "start_time": "2024-11-17T09:58:57.614Z"
   },
   {
    "duration": 10,
    "start_time": "2024-11-17T09:58:57.629Z"
   },
   {
    "duration": 124,
    "start_time": "2024-11-17T09:58:57.641Z"
   },
   {
    "duration": 4,
    "start_time": "2024-11-17T09:58:57.767Z"
   },
   {
    "duration": 500,
    "start_time": "2024-11-17T10:21:20.296Z"
   },
   {
    "duration": 387,
    "start_time": "2024-11-17T10:22:05.013Z"
   },
   {
    "duration": 138,
    "start_time": "2024-11-17T10:22:16.899Z"
   },
   {
    "duration": 320,
    "start_time": "2024-11-17T10:22:46.117Z"
   },
   {
    "duration": 132,
    "start_time": "2024-11-17T10:22:49.614Z"
   },
   {
    "duration": 9,
    "start_time": "2024-11-17T10:24:50.203Z"
   },
   {
    "duration": 70,
    "start_time": "2024-11-17T10:35:54.325Z"
   },
   {
    "duration": 10,
    "start_time": "2024-11-17T10:36:15.019Z"
   },
   {
    "duration": 8,
    "start_time": "2024-11-17T10:36:27.532Z"
   },
   {
    "duration": 7,
    "start_time": "2024-11-17T10:36:40.710Z"
   },
   {
    "duration": 47,
    "start_time": "2024-11-17T10:38:22.623Z"
   },
   {
    "duration": 19,
    "start_time": "2024-11-17T10:38:34.245Z"
   },
   {
    "duration": 21,
    "start_time": "2024-11-17T10:38:47.709Z"
   },
   {
    "duration": 44,
    "start_time": "2024-11-17T10:42:41.793Z"
   },
   {
    "duration": 49,
    "start_time": "2024-11-17T10:43:30.088Z"
   },
   {
    "duration": 13,
    "start_time": "2024-11-17T10:43:41.521Z"
   },
   {
    "duration": 727,
    "start_time": "2024-11-17T11:00:26.132Z"
   },
   {
    "duration": 13,
    "start_time": "2024-11-17T11:00:26.862Z"
   },
   {
    "duration": 11,
    "start_time": "2024-11-17T11:00:26.876Z"
   },
   {
    "duration": 10,
    "start_time": "2024-11-17T11:00:26.889Z"
   },
   {
    "duration": 37,
    "start_time": "2024-11-17T11:00:26.902Z"
   },
   {
    "duration": 11,
    "start_time": "2024-11-17T11:00:26.941Z"
   },
   {
    "duration": 233,
    "start_time": "2024-11-17T11:00:26.954Z"
   },
   {
    "duration": 152,
    "start_time": "2024-11-17T11:00:27.189Z"
   },
   {
    "duration": 144,
    "start_time": "2024-11-17T11:00:27.343Z"
   },
   {
    "duration": 241,
    "start_time": "2024-11-17T11:00:27.488Z"
   },
   {
    "duration": 158,
    "start_time": "2024-11-17T11:00:27.731Z"
   },
   {
    "duration": 299,
    "start_time": "2024-11-17T11:00:27.891Z"
   },
   {
    "duration": 121,
    "start_time": "2024-11-17T11:00:28.192Z"
   },
   {
    "duration": 94,
    "start_time": "2024-11-17T11:00:28.316Z"
   },
   {
    "duration": 14,
    "start_time": "2024-11-17T11:00:28.412Z"
   },
   {
    "duration": 8,
    "start_time": "2024-11-17T11:00:28.428Z"
   },
   {
    "duration": 123,
    "start_time": "2024-11-17T11:00:28.438Z"
   },
   {
    "duration": 6,
    "start_time": "2024-11-17T11:00:28.563Z"
   },
   {
    "duration": 135,
    "start_time": "2024-11-17T11:00:28.570Z"
   },
   {
    "duration": 17,
    "start_time": "2024-11-17T11:00:28.707Z"
   },
   {
    "duration": 7,
    "start_time": "2024-11-17T11:00:28.725Z"
   },
   {
    "duration": 19,
    "start_time": "2024-11-17T11:00:28.733Z"
   },
   {
    "duration": 10,
    "start_time": "2024-11-17T11:00:28.754Z"
   },
   {
    "duration": 749,
    "start_time": "2024-11-17T11:27:06.144Z"
   },
   {
    "duration": 11,
    "start_time": "2024-11-17T11:27:06.897Z"
   },
   {
    "duration": 16,
    "start_time": "2024-11-17T11:27:06.909Z"
   },
   {
    "duration": 9,
    "start_time": "2024-11-17T11:27:06.927Z"
   },
   {
    "duration": 18,
    "start_time": "2024-11-17T11:27:06.938Z"
   },
   {
    "duration": 11,
    "start_time": "2024-11-17T11:27:06.958Z"
   },
   {
    "duration": 240,
    "start_time": "2024-11-17T11:27:06.971Z"
   },
   {
    "duration": 151,
    "start_time": "2024-11-17T11:27:07.214Z"
   },
   {
    "duration": 150,
    "start_time": "2024-11-17T11:27:07.367Z"
   },
   {
    "duration": 251,
    "start_time": "2024-11-17T11:27:07.524Z"
   },
   {
    "duration": 164,
    "start_time": "2024-11-17T11:27:07.777Z"
   },
   {
    "duration": 257,
    "start_time": "2024-11-17T11:27:07.942Z"
   },
   {
    "duration": 114,
    "start_time": "2024-11-17T11:27:08.201Z"
   },
   {
    "duration": 111,
    "start_time": "2024-11-17T11:27:08.323Z"
   },
   {
    "duration": 4,
    "start_time": "2024-11-17T11:27:08.436Z"
   },
   {
    "duration": 9,
    "start_time": "2024-11-17T11:27:08.441Z"
   },
   {
    "duration": 131,
    "start_time": "2024-11-17T11:27:08.451Z"
   },
   {
    "duration": 4,
    "start_time": "2024-11-17T11:27:08.583Z"
   },
   {
    "duration": 147,
    "start_time": "2024-11-17T11:27:08.589Z"
   },
   {
    "duration": 7,
    "start_time": "2024-11-17T11:27:08.738Z"
   },
   {
    "duration": 7,
    "start_time": "2024-11-17T11:27:08.747Z"
   },
   {
    "duration": 19,
    "start_time": "2024-11-17T11:27:08.755Z"
   },
   {
    "duration": 10,
    "start_time": "2024-11-17T11:27:08.775Z"
   },
   {
    "duration": 2407,
    "start_time": "2024-11-18T07:27:01.910Z"
   },
   {
    "duration": 15,
    "start_time": "2024-11-18T07:27:05.239Z"
   },
   {
    "duration": 11,
    "start_time": "2024-11-18T07:28:00.958Z"
   },
   {
    "duration": 8,
    "start_time": "2024-11-18T07:28:15.239Z"
   },
   {
    "duration": 9,
    "start_time": "2024-11-18T07:28:20.629Z"
   },
   {
    "duration": 2,
    "start_time": "2024-11-18T07:29:08.263Z"
   },
   {
    "duration": 10,
    "start_time": "2024-11-18T07:29:10.041Z"
   },
   {
    "duration": 9,
    "start_time": "2024-11-18T07:29:31.547Z"
   },
   {
    "duration": 10,
    "start_time": "2024-11-18T07:29:34.960Z"
   },
   {
    "duration": 20,
    "start_time": "2024-11-18T07:35:11.107Z"
   },
   {
    "duration": 12,
    "start_time": "2024-11-18T07:35:13.379Z"
   },
   {
    "duration": 6,
    "start_time": "2024-11-18T07:35:15.916Z"
   },
   {
    "duration": 7,
    "start_time": "2024-11-18T07:35:37.698Z"
   },
   {
    "duration": 208,
    "start_time": "2024-11-18T07:35:48.666Z"
   },
   {
    "duration": 6,
    "start_time": "2024-11-18T07:36:26.866Z"
   },
   {
    "duration": 5,
    "start_time": "2024-11-18T07:37:25.465Z"
   },
   {
    "duration": 3,
    "start_time": "2024-11-18T07:42:24.754Z"
   },
   {
    "duration": 4,
    "start_time": "2024-11-18T07:44:07.390Z"
   },
   {
    "duration": 6,
    "start_time": "2024-11-18T07:47:17.129Z"
   },
   {
    "duration": 17,
    "start_time": "2024-11-18T07:48:06.072Z"
   },
   {
    "duration": 14,
    "start_time": "2024-11-18T07:48:41.595Z"
   },
   {
    "duration": 2,
    "start_time": "2024-11-18T07:48:55.109Z"
   },
   {
    "duration": 9,
    "start_time": "2024-11-18T07:48:55.931Z"
   },
   {
    "duration": 9,
    "start_time": "2024-11-18T07:48:58.737Z"
   },
   {
    "duration": 9,
    "start_time": "2024-11-18T07:49:01.066Z"
   },
   {
    "duration": 18,
    "start_time": "2024-11-18T07:49:04.471Z"
   },
   {
    "duration": 12,
    "start_time": "2024-11-18T07:49:08.369Z"
   },
   {
    "duration": 6,
    "start_time": "2024-11-18T07:49:19.162Z"
   },
   {
    "duration": 5,
    "start_time": "2024-11-18T07:49:35.651Z"
   },
   {
    "duration": 6,
    "start_time": "2024-11-18T07:49:48.499Z"
   },
   {
    "duration": 6,
    "start_time": "2024-11-18T07:49:52.154Z"
   },
   {
    "duration": 5,
    "start_time": "2024-11-18T07:50:46.357Z"
   },
   {
    "duration": 5,
    "start_time": "2024-11-18T07:50:51.226Z"
   },
   {
    "duration": 5,
    "start_time": "2024-11-18T07:51:08.034Z"
   },
   {
    "duration": 5,
    "start_time": "2024-11-18T07:51:09.755Z"
   },
   {
    "duration": 7,
    "start_time": "2024-11-18T07:51:34.786Z"
   },
   {
    "duration": 4,
    "start_time": "2024-11-18T07:51:41.147Z"
   },
   {
    "duration": 5,
    "start_time": "2024-11-18T07:51:41.941Z"
   },
   {
    "duration": 6,
    "start_time": "2024-11-18T07:51:42.884Z"
   },
   {
    "duration": 7,
    "start_time": "2024-11-18T07:51:43.851Z"
   },
   {
    "duration": 5,
    "start_time": "2024-11-18T07:51:47.492Z"
   },
   {
    "duration": 5,
    "start_time": "2024-11-18T07:51:49.259Z"
   },
   {
    "duration": 3,
    "start_time": "2024-11-18T07:56:29.261Z"
   },
   {
    "duration": 10,
    "start_time": "2024-11-18T07:56:29.998Z"
   },
   {
    "duration": 9,
    "start_time": "2024-11-18T07:56:32.181Z"
   },
   {
    "duration": 11,
    "start_time": "2024-11-18T07:56:33.783Z"
   },
   {
    "duration": 19,
    "start_time": "2024-11-18T07:56:36.758Z"
   },
   {
    "duration": 11,
    "start_time": "2024-11-18T07:56:38.431Z"
   },
   {
    "duration": 5,
    "start_time": "2024-11-18T07:56:41.093Z"
   },
   {
    "duration": 6,
    "start_time": "2024-11-18T07:56:41.815Z"
   },
   {
    "duration": 5,
    "start_time": "2024-11-18T07:56:43.207Z"
   },
   {
    "duration": 6,
    "start_time": "2024-11-18T07:56:43.780Z"
   },
   {
    "duration": 5,
    "start_time": "2024-11-18T07:56:47.237Z"
   },
   {
    "duration": 5,
    "start_time": "2024-11-18T07:56:48.157Z"
   },
   {
    "duration": 6,
    "start_time": "2024-11-18T08:00:18.718Z"
   },
   {
    "duration": 3,
    "start_time": "2024-11-18T08:11:06.534Z"
   },
   {
    "duration": 4,
    "start_time": "2024-11-18T08:11:15.805Z"
   },
   {
    "duration": 5,
    "start_time": "2024-11-18T08:14:34.146Z"
   },
   {
    "duration": 2,
    "start_time": "2024-11-18T08:14:59.528Z"
   },
   {
    "duration": 10,
    "start_time": "2024-11-18T08:15:00.206Z"
   },
   {
    "duration": 9,
    "start_time": "2024-11-18T08:15:02.936Z"
   },
   {
    "duration": 10,
    "start_time": "2024-11-18T08:15:03.813Z"
   },
   {
    "duration": 18,
    "start_time": "2024-11-18T08:15:07.430Z"
   },
   {
    "duration": 12,
    "start_time": "2024-11-18T08:15:08.488Z"
   },
   {
    "duration": 5,
    "start_time": "2024-11-18T08:15:11.909Z"
   },
   {
    "duration": 5,
    "start_time": "2024-11-18T08:15:12.262Z"
   },
   {
    "duration": 5,
    "start_time": "2024-11-18T08:15:12.698Z"
   },
   {
    "duration": 6,
    "start_time": "2024-11-18T08:15:13.119Z"
   },
   {
    "duration": 5,
    "start_time": "2024-11-18T08:15:13.552Z"
   },
   {
    "duration": 5,
    "start_time": "2024-11-18T08:15:14.991Z"
   },
   {
    "duration": 6,
    "start_time": "2024-11-18T08:15:19.239Z"
   },
   {
    "duration": 3,
    "start_time": "2024-11-18T08:15:23.686Z"
   },
   {
    "duration": 218,
    "start_time": "2024-11-18T08:15:35.740Z"
   },
   {
    "duration": 732,
    "start_time": "2024-11-18T08:16:12.044Z"
   },
   {
    "duration": 12,
    "start_time": "2024-11-18T08:16:12.779Z"
   },
   {
    "duration": 10,
    "start_time": "2024-11-18T08:16:12.792Z"
   },
   {
    "duration": 21,
    "start_time": "2024-11-18T08:16:12.805Z"
   },
   {
    "duration": 19,
    "start_time": "2024-11-18T08:16:12.827Z"
   },
   {
    "duration": 10,
    "start_time": "2024-11-18T08:16:12.847Z"
   },
   {
    "duration": 5,
    "start_time": "2024-11-18T08:16:12.859Z"
   },
   {
    "duration": 5,
    "start_time": "2024-11-18T08:16:12.866Z"
   },
   {
    "duration": 5,
    "start_time": "2024-11-18T08:16:12.872Z"
   },
   {
    "duration": 5,
    "start_time": "2024-11-18T08:16:12.880Z"
   },
   {
    "duration": 41,
    "start_time": "2024-11-18T08:16:12.886Z"
   },
   {
    "duration": 5,
    "start_time": "2024-11-18T08:16:12.928Z"
   },
   {
    "duration": 7,
    "start_time": "2024-11-18T08:16:12.935Z"
   },
   {
    "duration": 4,
    "start_time": "2024-11-18T08:16:12.943Z"
   },
   {
    "duration": 250,
    "start_time": "2024-11-18T08:16:12.948Z"
   },
   {
    "duration": 167,
    "start_time": "2024-11-18T08:16:13.202Z"
   },
   {
    "duration": 153,
    "start_time": "2024-11-18T08:16:13.371Z"
   },
   {
    "duration": 246,
    "start_time": "2024-11-18T08:16:13.525Z"
   },
   {
    "duration": 157,
    "start_time": "2024-11-18T08:16:13.773Z"
   },
   {
    "duration": 250,
    "start_time": "2024-11-18T08:16:13.932Z"
   },
   {
    "duration": 114,
    "start_time": "2024-11-18T08:16:14.184Z"
   },
   {
    "duration": 122,
    "start_time": "2024-11-18T08:16:14.300Z"
   },
   {
    "duration": 5,
    "start_time": "2024-11-18T08:16:14.423Z"
   },
   {
    "duration": 9,
    "start_time": "2024-11-18T08:16:14.429Z"
   },
   {
    "duration": 126,
    "start_time": "2024-11-18T08:16:14.440Z"
   },
   {
    "duration": 4,
    "start_time": "2024-11-18T08:16:14.568Z"
   },
   {
    "duration": 132,
    "start_time": "2024-11-18T08:16:14.574Z"
   },
   {
    "duration": 13,
    "start_time": "2024-11-18T08:16:14.710Z"
   },
   {
    "duration": 8,
    "start_time": "2024-11-18T08:16:14.725Z"
   },
   {
    "duration": 29,
    "start_time": "2024-11-18T08:16:14.736Z"
   },
   {
    "duration": 12,
    "start_time": "2024-11-18T08:16:14.767Z"
   },
   {
    "duration": 139,
    "start_time": "2024-11-18T08:25:29.821Z"
   },
   {
    "duration": 118,
    "start_time": "2024-11-18T08:25:34.099Z"
   },
   {
    "duration": 131,
    "start_time": "2024-11-18T08:25:56.319Z"
   },
   {
    "duration": 8,
    "start_time": "2024-11-18T08:31:17.671Z"
   },
   {
    "duration": 9,
    "start_time": "2024-11-18T08:34:34.944Z"
   },
   {
    "duration": 7,
    "start_time": "2024-11-18T08:36:04.137Z"
   },
   {
    "duration": 20,
    "start_time": "2024-11-18T08:38:32.562Z"
   },
   {
    "duration": 10,
    "start_time": "2024-11-18T08:40:26.356Z"
   },
   {
    "duration": 735,
    "start_time": "2024-11-18T08:50:13.013Z"
   },
   {
    "duration": 12,
    "start_time": "2024-11-18T08:50:13.751Z"
   },
   {
    "duration": 10,
    "start_time": "2024-11-18T08:50:13.764Z"
   },
   {
    "duration": 9,
    "start_time": "2024-11-18T08:50:13.776Z"
   },
   {
    "duration": 38,
    "start_time": "2024-11-18T08:50:13.787Z"
   },
   {
    "duration": 11,
    "start_time": "2024-11-18T08:50:13.826Z"
   },
   {
    "duration": 4,
    "start_time": "2024-11-18T08:50:13.838Z"
   },
   {
    "duration": 5,
    "start_time": "2024-11-18T08:50:13.844Z"
   },
   {
    "duration": 10,
    "start_time": "2024-11-18T08:50:13.850Z"
   },
   {
    "duration": 5,
    "start_time": "2024-11-18T08:50:13.862Z"
   },
   {
    "duration": 5,
    "start_time": "2024-11-18T08:50:13.869Z"
   },
   {
    "duration": 9,
    "start_time": "2024-11-18T08:50:13.876Z"
   },
   {
    "duration": 39,
    "start_time": "2024-11-18T08:50:13.887Z"
   },
   {
    "duration": 4,
    "start_time": "2024-11-18T08:50:13.927Z"
   },
   {
    "duration": 233,
    "start_time": "2024-11-18T08:50:13.933Z"
   },
   {
    "duration": 166,
    "start_time": "2024-11-18T08:50:14.168Z"
   },
   {
    "duration": 145,
    "start_time": "2024-11-18T08:50:14.336Z"
   },
   {
    "duration": 213,
    "start_time": "2024-11-18T08:50:14.483Z"
   },
   {
    "duration": 152,
    "start_time": "2024-11-18T08:50:14.698Z"
   },
   {
    "duration": 245,
    "start_time": "2024-11-18T08:50:14.853Z"
   },
   {
    "duration": 112,
    "start_time": "2024-11-18T08:50:15.100Z"
   },
   {
    "duration": 121,
    "start_time": "2024-11-18T08:50:15.214Z"
   },
   {
    "duration": 5,
    "start_time": "2024-11-18T08:50:15.336Z"
   },
   {
    "duration": 9,
    "start_time": "2024-11-18T08:50:15.342Z"
   },
   {
    "duration": 133,
    "start_time": "2024-11-18T08:50:15.352Z"
   },
   {
    "duration": 4,
    "start_time": "2024-11-18T08:50:15.487Z"
   },
   {
    "duration": 122,
    "start_time": "2024-11-18T08:50:15.492Z"
   },
   {
    "duration": 8,
    "start_time": "2024-11-18T08:50:15.623Z"
   },
   {
    "duration": 7,
    "start_time": "2024-11-18T08:50:15.632Z"
   },
   {
    "duration": 9,
    "start_time": "2024-11-18T08:50:15.641Z"
   },
   {
    "duration": 19,
    "start_time": "2024-11-18T08:50:15.651Z"
   },
   {
    "duration": 10,
    "start_time": "2024-11-18T08:50:15.671Z"
   },
   {
    "duration": 734,
    "start_time": "2024-11-18T08:50:46.240Z"
   },
   {
    "duration": 11,
    "start_time": "2024-11-18T08:50:46.977Z"
   },
   {
    "duration": 11,
    "start_time": "2024-11-18T08:50:46.989Z"
   },
   {
    "duration": 23,
    "start_time": "2024-11-18T08:50:47.002Z"
   },
   {
    "duration": 19,
    "start_time": "2024-11-18T08:50:47.028Z"
   },
   {
    "duration": 11,
    "start_time": "2024-11-18T08:50:47.048Z"
   },
   {
    "duration": 5,
    "start_time": "2024-11-18T08:50:47.060Z"
   },
   {
    "duration": 5,
    "start_time": "2024-11-18T08:50:47.067Z"
   },
   {
    "duration": 5,
    "start_time": "2024-11-18T08:50:47.073Z"
   },
   {
    "duration": 4,
    "start_time": "2024-11-18T08:50:47.080Z"
   },
   {
    "duration": 40,
    "start_time": "2024-11-18T08:50:47.086Z"
   },
   {
    "duration": 5,
    "start_time": "2024-11-18T08:50:47.128Z"
   },
   {
    "duration": 5,
    "start_time": "2024-11-18T08:50:47.134Z"
   },
   {
    "duration": 3,
    "start_time": "2024-11-18T08:50:47.143Z"
   },
   {
    "duration": 252,
    "start_time": "2024-11-18T08:50:47.147Z"
   },
   {
    "duration": 176,
    "start_time": "2024-11-18T08:50:47.401Z"
   },
   {
    "duration": 147,
    "start_time": "2024-11-18T08:50:47.578Z"
   },
   {
    "duration": 248,
    "start_time": "2024-11-18T08:50:47.727Z"
   },
   {
    "duration": 155,
    "start_time": "2024-11-18T08:50:47.976Z"
   },
   {
    "duration": 260,
    "start_time": "2024-11-18T08:50:48.133Z"
   },
   {
    "duration": 113,
    "start_time": "2024-11-18T08:50:48.395Z"
   },
   {
    "duration": 121,
    "start_time": "2024-11-18T08:50:48.509Z"
   },
   {
    "duration": 4,
    "start_time": "2024-11-18T08:50:48.632Z"
   },
   {
    "duration": 8,
    "start_time": "2024-11-18T08:50:48.637Z"
   },
   {
    "duration": 132,
    "start_time": "2024-11-18T08:50:48.647Z"
   },
   {
    "duration": 4,
    "start_time": "2024-11-18T08:50:48.781Z"
   },
   {
    "duration": 154,
    "start_time": "2024-11-18T08:50:48.787Z"
   },
   {
    "duration": 8,
    "start_time": "2024-11-18T08:50:48.943Z"
   },
   {
    "duration": 6,
    "start_time": "2024-11-18T08:50:48.953Z"
   },
   {
    "duration": 8,
    "start_time": "2024-11-18T08:50:48.961Z"
   },
   {
    "duration": 19,
    "start_time": "2024-11-18T08:50:48.970Z"
   },
   {
    "duration": 38,
    "start_time": "2024-11-18T08:50:48.990Z"
   },
   {
    "duration": 731,
    "start_time": "2024-11-18T09:09:09.410Z"
   },
   {
    "duration": 13,
    "start_time": "2024-11-18T09:09:10.144Z"
   },
   {
    "duration": 10,
    "start_time": "2024-11-18T09:09:10.158Z"
   },
   {
    "duration": 9,
    "start_time": "2024-11-18T09:09:10.169Z"
   },
   {
    "duration": 43,
    "start_time": "2024-11-18T09:09:10.182Z"
   },
   {
    "duration": 11,
    "start_time": "2024-11-18T09:09:10.226Z"
   },
   {
    "duration": 5,
    "start_time": "2024-11-18T09:09:10.239Z"
   },
   {
    "duration": 6,
    "start_time": "2024-11-18T09:09:10.245Z"
   },
   {
    "duration": 5,
    "start_time": "2024-11-18T09:09:10.252Z"
   },
   {
    "duration": 6,
    "start_time": "2024-11-18T09:09:10.258Z"
   },
   {
    "duration": 4,
    "start_time": "2024-11-18T09:09:10.265Z"
   },
   {
    "duration": 4,
    "start_time": "2024-11-18T09:09:10.271Z"
   },
   {
    "duration": 47,
    "start_time": "2024-11-18T09:09:10.277Z"
   },
   {
    "duration": 3,
    "start_time": "2024-11-18T09:09:10.328Z"
   },
   {
    "duration": 233,
    "start_time": "2024-11-18T09:09:10.333Z"
   },
   {
    "duration": 164,
    "start_time": "2024-11-18T09:09:10.568Z"
   },
   {
    "duration": 145,
    "start_time": "2024-11-18T09:09:10.733Z"
   },
   {
    "duration": 213,
    "start_time": "2024-11-18T09:09:10.880Z"
   },
   {
    "duration": 169,
    "start_time": "2024-11-18T09:09:11.095Z"
   },
   {
    "duration": 273,
    "start_time": "2024-11-18T09:09:11.265Z"
   },
   {
    "duration": 121,
    "start_time": "2024-11-18T09:09:11.540Z"
   },
   {
    "duration": 119,
    "start_time": "2024-11-18T09:09:11.663Z"
   },
   {
    "duration": 4,
    "start_time": "2024-11-18T09:09:11.784Z"
   },
   {
    "duration": 8,
    "start_time": "2024-11-18T09:09:11.790Z"
   },
   {
    "duration": 125,
    "start_time": "2024-11-18T09:09:11.800Z"
   },
   {
    "duration": 5,
    "start_time": "2024-11-18T09:09:11.927Z"
   },
   {
    "duration": 140,
    "start_time": "2024-11-18T09:09:11.934Z"
   },
   {
    "duration": 8,
    "start_time": "2024-11-18T09:09:12.076Z"
   },
   {
    "duration": 8,
    "start_time": "2024-11-18T09:09:12.085Z"
   },
   {
    "duration": 8,
    "start_time": "2024-11-18T09:09:12.094Z"
   },
   {
    "duration": 19,
    "start_time": "2024-11-18T09:09:12.124Z"
   },
   {
    "duration": 10,
    "start_time": "2024-11-18T09:09:12.144Z"
   },
   {
    "duration": 704,
    "start_time": "2024-11-18T09:13:16.470Z"
   },
   {
    "duration": 12,
    "start_time": "2024-11-18T09:13:17.176Z"
   },
   {
    "duration": 9,
    "start_time": "2024-11-18T09:13:17.190Z"
   },
   {
    "duration": 24,
    "start_time": "2024-11-18T09:13:17.201Z"
   },
   {
    "duration": 19,
    "start_time": "2024-11-18T09:13:17.226Z"
   },
   {
    "duration": 11,
    "start_time": "2024-11-18T09:13:17.246Z"
   },
   {
    "duration": 4,
    "start_time": "2024-11-18T09:13:17.259Z"
   },
   {
    "duration": 6,
    "start_time": "2024-11-18T09:13:17.266Z"
   },
   {
    "duration": 5,
    "start_time": "2024-11-18T09:13:17.274Z"
   },
   {
    "duration": 5,
    "start_time": "2024-11-18T09:13:17.281Z"
   },
   {
    "duration": 37,
    "start_time": "2024-11-18T09:13:17.288Z"
   },
   {
    "duration": 5,
    "start_time": "2024-11-18T09:13:17.326Z"
   },
   {
    "duration": 5,
    "start_time": "2024-11-18T09:13:17.332Z"
   },
   {
    "duration": 4,
    "start_time": "2024-11-18T09:13:17.339Z"
   },
   {
    "duration": 245,
    "start_time": "2024-11-18T09:13:17.345Z"
   },
   {
    "duration": 175,
    "start_time": "2024-11-18T09:13:17.592Z"
   },
   {
    "duration": 150,
    "start_time": "2024-11-18T09:13:17.769Z"
   },
   {
    "duration": 241,
    "start_time": "2024-11-18T09:13:17.920Z"
   },
   {
    "duration": 156,
    "start_time": "2024-11-18T09:13:18.163Z"
   },
   {
    "duration": 268,
    "start_time": "2024-11-18T09:13:18.320Z"
   },
   {
    "duration": 109,
    "start_time": "2024-11-18T09:13:18.590Z"
   },
   {
    "duration": 115,
    "start_time": "2024-11-18T09:13:18.701Z"
   },
   {
    "duration": 9,
    "start_time": "2024-11-18T09:13:18.818Z"
   },
   {
    "duration": 9,
    "start_time": "2024-11-18T09:13:18.828Z"
   },
   {
    "duration": 121,
    "start_time": "2024-11-18T09:13:18.839Z"
   },
   {
    "duration": 4,
    "start_time": "2024-11-18T09:13:18.962Z"
   },
   {
    "duration": 140,
    "start_time": "2024-11-18T09:13:18.967Z"
   },
   {
    "duration": 16,
    "start_time": "2024-11-18T09:13:19.112Z"
   },
   {
    "duration": 9,
    "start_time": "2024-11-18T09:13:19.130Z"
   },
   {
    "duration": 19,
    "start_time": "2024-11-18T09:13:19.140Z"
   },
   {
    "duration": 10,
    "start_time": "2024-11-18T09:13:19.161Z"
   }
  ],
  "kernelspec": {
   "display_name": "Python 3 (ipykernel)",
   "language": "python",
   "name": "python3"
  },
  "language_info": {
   "codemirror_mode": {
    "name": "ipython",
    "version": 3
   },
   "file_extension": ".py",
   "mimetype": "text/x-python",
   "name": "python",
   "nbconvert_exporter": "python",
   "pygments_lexer": "ipython3",
   "version": "3.12.4"
  },
  "toc": {
   "base_numbering": 1,
   "nav_menu": {},
   "number_sections": true,
   "sideBar": true,
   "skip_h1_title": true,
   "title_cell": "Table of Contents",
   "title_sidebar": "Contents",
   "toc_cell": false,
   "toc_position": {},
   "toc_section_display": true,
   "toc_window_display": false
  }
 },
 "nbformat": 4,
 "nbformat_minor": 4
}
